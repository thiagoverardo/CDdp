{
 "cells": [
  {
   "cell_type": "markdown",
   "metadata": {},
   "source": [
    "___\n",
    "# Ciência dos Dados - PROJETO 1"
   ]
  },
  {
   "cell_type": "markdown",
   "metadata": {},
   "source": [
    "## Renato Tajima e Thiago Verardo\n",
    "___"
   ]
  },
  {
   "cell_type": "markdown",
   "metadata": {},
   "source": [
    "## Descrição do perfil dos brasileiros economicamente ativos"
   ]
  },
  {
   "cell_type": "markdown",
   "metadata": {},
   "source": [
    "___\n",
    "## Introdução\n",
    "\n",
    "O objetivo do projeto é analisar o perfil dos brasileiros economicamente ativos. Com isso, iremos analisar variáveis que influenciam um brasileiro a ser ativo economicamente, seja pela classe, escolaridade, estado, ou o que quisermos ver se é relacionado. \n",
    "\n",
    "As informações serão retiradas da PNAD.\n"
   ]
  },
  {
   "cell_type": "markdown",
   "metadata": {},
   "source": [
    "___\n",
    "## Filtros da base de dados"
   ]
  },
  {
   "cell_type": "code",
   "execution_count": 2,
   "metadata": {},
   "outputs": [],
   "source": [
    "%matplotlib inline\n",
    "import pandas as pd\n",
    "import matplotlib.pyplot as plt\n",
    "import numpy as np\n",
    "import os"
   ]
  },
  {
   "cell_type": "code",
   "execution_count": 3,
   "metadata": {},
   "outputs": [
    {
     "name": "stdout",
     "output_type": "stream",
     "text": [
      "Esperamos trabalhar no diretório\n",
      "C:\\Users\\thive\\Desktop\\Insper\\Terceiro Semestre\\CDdp\\CDdp\n"
     ]
    }
   ],
   "source": [
    "print('Esperamos trabalhar no diretório')\n",
    "print(os.getcwd())"
   ]
  },
  {
   "cell_type": "code",
   "execution_count": 4,
   "metadata": {},
   "outputs": [],
   "source": [
    "DF_2015 = pd.read_csv('PES2015.csv',sep=',')\n",
    "DF_2011 = pd.read_csv('PES2011.csv',sep=',')"
   ]
  },
  {
   "cell_type": "code",
   "execution_count": 5,
   "metadata": {},
   "outputs": [
    {
     "data": {
      "text/html": [
       "<div>\n",
       "<style scoped>\n",
       "    .dataframe tbody tr th:only-of-type {\n",
       "        vertical-align: middle;\n",
       "    }\n",
       "\n",
       "    .dataframe tbody tr th {\n",
       "        vertical-align: top;\n",
       "    }\n",
       "\n",
       "    .dataframe thead th {\n",
       "        text-align: right;\n",
       "    }\n",
       "</style>\n",
       "<table border=\"1\" class=\"dataframe\">\n",
       "  <thead>\n",
       "    <tr style=\"text-align: right;\">\n",
       "      <th></th>\n",
       "      <th>V0101</th>\n",
       "      <th>UF</th>\n",
       "      <th>V0102</th>\n",
       "      <th>V0103</th>\n",
       "      <th>V0301</th>\n",
       "      <th>V0302</th>\n",
       "      <th>V3031</th>\n",
       "      <th>V3032</th>\n",
       "      <th>V3033</th>\n",
       "      <th>V8005</th>\n",
       "      <th>...</th>\n",
       "      <th>V4741</th>\n",
       "      <th>V4742</th>\n",
       "      <th>V4743</th>\n",
       "      <th>V4745</th>\n",
       "      <th>V4746</th>\n",
       "      <th>V4747</th>\n",
       "      <th>V4748</th>\n",
       "      <th>V4749</th>\n",
       "      <th>V4750</th>\n",
       "      <th>V9993</th>\n",
       "    </tr>\n",
       "  </thead>\n",
       "  <tbody>\n",
       "    <tr>\n",
       "      <th>0</th>\n",
       "      <td>2011</td>\n",
       "      <td>11</td>\n",
       "      <td>11000000.0</td>\n",
       "      <td>1</td>\n",
       "      <td>1</td>\n",
       "      <td>2</td>\n",
       "      <td>25</td>\n",
       "      <td>12</td>\n",
       "      <td>1961</td>\n",
       "      <td>49</td>\n",
       "      <td>...</td>\n",
       "      <td>4.0</td>\n",
       "      <td>1.000000e+12</td>\n",
       "      <td>99.0</td>\n",
       "      <td>2</td>\n",
       "      <td>1.0</td>\n",
       "      <td>2.0</td>\n",
       "      <td>2.0</td>\n",
       "      <td>1.0</td>\n",
       "      <td>1.000000e+12</td>\n",
       "      <td>20100000.0</td>\n",
       "    </tr>\n",
       "    <tr>\n",
       "      <th>1</th>\n",
       "      <td>2011</td>\n",
       "      <td>11</td>\n",
       "      <td>11000000.0</td>\n",
       "      <td>1</td>\n",
       "      <td>2</td>\n",
       "      <td>4</td>\n",
       "      <td>1</td>\n",
       "      <td>4</td>\n",
       "      <td>1978</td>\n",
       "      <td>33</td>\n",
       "      <td>...</td>\n",
       "      <td>4.0</td>\n",
       "      <td>1.000000e+12</td>\n",
       "      <td>99.0</td>\n",
       "      <td>6</td>\n",
       "      <td>2.0</td>\n",
       "      <td>NaN</td>\n",
       "      <td>NaN</td>\n",
       "      <td>2.0</td>\n",
       "      <td>1.000000e+12</td>\n",
       "      <td>20100000.0</td>\n",
       "    </tr>\n",
       "    <tr>\n",
       "      <th>2</th>\n",
       "      <td>2011</td>\n",
       "      <td>11</td>\n",
       "      <td>11000000.0</td>\n",
       "      <td>1</td>\n",
       "      <td>3</td>\n",
       "      <td>4</td>\n",
       "      <td>15</td>\n",
       "      <td>6</td>\n",
       "      <td>1996</td>\n",
       "      <td>15</td>\n",
       "      <td>...</td>\n",
       "      <td>4.0</td>\n",
       "      <td>1.000000e+12</td>\n",
       "      <td>99.0</td>\n",
       "      <td>3</td>\n",
       "      <td>2.0</td>\n",
       "      <td>NaN</td>\n",
       "      <td>NaN</td>\n",
       "      <td>2.0</td>\n",
       "      <td>1.000000e+12</td>\n",
       "      <td>20100000.0</td>\n",
       "    </tr>\n",
       "    <tr>\n",
       "      <th>3</th>\n",
       "      <td>2011</td>\n",
       "      <td>11</td>\n",
       "      <td>11000000.0</td>\n",
       "      <td>1</td>\n",
       "      <td>4</td>\n",
       "      <td>2</td>\n",
       "      <td>3</td>\n",
       "      <td>12</td>\n",
       "      <td>2001</td>\n",
       "      <td>9</td>\n",
       "      <td>...</td>\n",
       "      <td>4.0</td>\n",
       "      <td>1.000000e+12</td>\n",
       "      <td>99.0</td>\n",
       "      <td>2</td>\n",
       "      <td>2.0</td>\n",
       "      <td>NaN</td>\n",
       "      <td>NaN</td>\n",
       "      <td>2.0</td>\n",
       "      <td>1.000000e+12</td>\n",
       "      <td>20100000.0</td>\n",
       "    </tr>\n",
       "    <tr>\n",
       "      <th>4</th>\n",
       "      <td>2011</td>\n",
       "      <td>11</td>\n",
       "      <td>11000000.0</td>\n",
       "      <td>2</td>\n",
       "      <td>1</td>\n",
       "      <td>4</td>\n",
       "      <td>16</td>\n",
       "      <td>10</td>\n",
       "      <td>1959</td>\n",
       "      <td>51</td>\n",
       "      <td>...</td>\n",
       "      <td>4.0</td>\n",
       "      <td>1.461000e+03</td>\n",
       "      <td>5.0</td>\n",
       "      <td>4</td>\n",
       "      <td>1.0</td>\n",
       "      <td>2.0</td>\n",
       "      <td>2.0</td>\n",
       "      <td>1.0</td>\n",
       "      <td>1.461000e+03</td>\n",
       "      <td>20100000.0</td>\n",
       "    </tr>\n",
       "  </tbody>\n",
       "</table>\n",
       "<p>5 rows × 324 columns</p>\n",
       "</div>"
      ],
      "text/plain": [
       "   V0101  UF       V0102  V0103  V0301  V0302  V3031  V3032  V3033  V8005  \\\n",
       "0   2011  11  11000000.0      1      1      2     25     12   1961     49   \n",
       "1   2011  11  11000000.0      1      2      4      1      4   1978     33   \n",
       "2   2011  11  11000000.0      1      3      4     15      6   1996     15   \n",
       "3   2011  11  11000000.0      1      4      2      3     12   2001      9   \n",
       "4   2011  11  11000000.0      2      1      4     16     10   1959     51   \n",
       "\n",
       "      ...      V4741         V4742  V4743  V4745  V4746  V4747  V4748  V4749  \\\n",
       "0     ...        4.0  1.000000e+12   99.0      2    1.0    2.0    2.0    1.0   \n",
       "1     ...        4.0  1.000000e+12   99.0      6    2.0    NaN    NaN    2.0   \n",
       "2     ...        4.0  1.000000e+12   99.0      3    2.0    NaN    NaN    2.0   \n",
       "3     ...        4.0  1.000000e+12   99.0      2    2.0    NaN    NaN    2.0   \n",
       "4     ...        4.0  1.461000e+03    5.0      4    1.0    2.0    2.0    1.0   \n",
       "\n",
       "          V4750       V9993  \n",
       "0  1.000000e+12  20100000.0  \n",
       "1  1.000000e+12  20100000.0  \n",
       "2  1.000000e+12  20100000.0  \n",
       "3  1.000000e+12  20100000.0  \n",
       "4  1.461000e+03  20100000.0  \n",
       "\n",
       "[5 rows x 324 columns]"
      ]
     },
     "execution_count": 5,
     "metadata": {},
     "output_type": "execute_result"
    }
   ],
   "source": [
    "DF_2011.head()"
   ]
  },
  {
   "cell_type": "markdown",
   "metadata": {
    "collapsed": true
   },
   "source": [
    "# Variáveis escolhidas:\n",
    "\n",
    "Unidade de Federação, sexo, idade, cor ou raça, estado civil, saber ler e escrever, rede de ensino, tem telefone móvel. "
   ]
  },
  {
   "cell_type": "code",
   "execution_count": 6,
   "metadata": {},
   "outputs": [
    {
     "data": {
      "text/html": [
       "<div>\n",
       "<style scoped>\n",
       "    .dataframe tbody tr th:only-of-type {\n",
       "        vertical-align: middle;\n",
       "    }\n",
       "\n",
       "    .dataframe tbody tr th {\n",
       "        vertical-align: top;\n",
       "    }\n",
       "\n",
       "    .dataframe thead th {\n",
       "        text-align: right;\n",
       "    }\n",
       "</style>\n",
       "<table border=\"1\" class=\"dataframe\">\n",
       "  <thead>\n",
       "    <tr style=\"text-align: right;\">\n",
       "      <th></th>\n",
       "      <th>UF</th>\n",
       "      <th>SEXO</th>\n",
       "      <th>IDADE</th>\n",
       "      <th>RAÇA</th>\n",
       "      <th>EST_CIV</th>\n",
       "      <th>LER_ESC</th>\n",
       "      <th>REDE_ENS</th>\n",
       "      <th>MOBILE</th>\n",
       "    </tr>\n",
       "  </thead>\n",
       "  <tbody>\n",
       "    <tr>\n",
       "      <th>0</th>\n",
       "      <td>11</td>\n",
       "      <td>2</td>\n",
       "      <td>49</td>\n",
       "      <td>2</td>\n",
       "      <td>NaN</td>\n",
       "      <td>1</td>\n",
       "      <td>NaN</td>\n",
       "      <td>1.0</td>\n",
       "    </tr>\n",
       "    <tr>\n",
       "      <th>1</th>\n",
       "      <td>11</td>\n",
       "      <td>4</td>\n",
       "      <td>33</td>\n",
       "      <td>8</td>\n",
       "      <td>NaN</td>\n",
       "      <td>1</td>\n",
       "      <td>4.0</td>\n",
       "      <td>1.0</td>\n",
       "    </tr>\n",
       "    <tr>\n",
       "      <th>2</th>\n",
       "      <td>11</td>\n",
       "      <td>4</td>\n",
       "      <td>15</td>\n",
       "      <td>8</td>\n",
       "      <td>0.0</td>\n",
       "      <td>1</td>\n",
       "      <td>2.0</td>\n",
       "      <td>3.0</td>\n",
       "    </tr>\n",
       "    <tr>\n",
       "      <th>3</th>\n",
       "      <td>11</td>\n",
       "      <td>2</td>\n",
       "      <td>9</td>\n",
       "      <td>2</td>\n",
       "      <td>NaN</td>\n",
       "      <td>1</td>\n",
       "      <td>2.0</td>\n",
       "      <td>NaN</td>\n",
       "    </tr>\n",
       "    <tr>\n",
       "      <th>4</th>\n",
       "      <td>11</td>\n",
       "      <td>4</td>\n",
       "      <td>51</td>\n",
       "      <td>4</td>\n",
       "      <td>1.0</td>\n",
       "      <td>1</td>\n",
       "      <td>NaN</td>\n",
       "      <td>1.0</td>\n",
       "    </tr>\n",
       "  </tbody>\n",
       "</table>\n",
       "</div>"
      ],
      "text/plain": [
       "   UF  SEXO  IDADE  RAÇA  EST_CIV  LER_ESC  REDE_ENS  MOBILE\n",
       "0  11     2     49     2      NaN        1       NaN     1.0\n",
       "1  11     4     33     8      NaN        1       4.0     1.0\n",
       "2  11     4     15     8      0.0        1       2.0     3.0\n",
       "3  11     2      9     2      NaN        1       2.0     NaN\n",
       "4  11     4     51     4      1.0        1       NaN     1.0"
      ]
     },
     "execution_count": 6,
     "metadata": {},
     "output_type": "execute_result"
    }
   ],
   "source": [
    "DF_2011_novo = pd.DataFrame()\n",
    "DF_2011_novo[['UF','SEXO','IDADE','RAÇA','EST_CIV','LER_ESC','REDE_ENS', 'MOBILE']] = DF_2011[['UF','V0302','V8005','V0404','V4011','V0601','V6002', 'V06112']]\n",
    "DF_2011_novo.head()"
   ]
  },
  {
   "cell_type": "code",
   "execution_count": 8,
   "metadata": {},
   "outputs": [
    {
     "data": {
      "text/plain": [
       "São Paulo              38237\n",
       "Minas Gerais           31842\n",
       "Rio Grande do Sul      28459\n",
       "Bahia                  27795\n",
       "Rio de Janeiro         25094\n",
       "Pará                   23539\n",
       "Pernambuco             21135\n",
       "Ceará                  18951\n",
       "Paraná                 17794\n",
       "Goiás                  14953\n",
       "Amazonas               11308\n",
       "Santa Catarina          9724\n",
       "Maranhão                9168\n",
       "Distrito Federal        8732\n",
       "Mato Grosso             7378\n",
       "Espírito Santo          7135\n",
       "Rondonia                6825\n",
       "Mato Grosso do Sul      6414\n",
       "Paraíba                 6169\n",
       "Sergipe                 5894\n",
       "Tocantins               5892\n",
       "Piauí                   5618\n",
       "Alagoas                 5534\n",
       "Rio Grande do Norte     5427\n",
       "Acre                    4076\n",
       "Amapá                   3075\n",
       "Roraima                 2751\n",
       "Name: UF, dtype: int64"
      ]
     },
     "execution_count": 8,
     "metadata": {},
     "output_type": "execute_result"
    }
   ],
   "source": [
    "try:\n",
    "    DF_2011_novo.loc[(DF_2011_novo.UF == 11), \"UF\"] = \"Rondonia\"\n",
    "    DF_2011_novo.loc[(DF_2011_novo.UF == 12), \"UF\"] = \"Acre\"\n",
    "    DF_2011_novo.loc[(DF_2011_novo.UF == 13), \"UF\"] = \"Amazonas\"\n",
    "    DF_2011_novo.loc[(DF_2011_novo.UF == 14), \"UF\"] = \"Roraima\"\n",
    "    DF_2011_novo.loc[(DF_2011_novo.UF == 15), \"UF\"] = \"Pará\"\n",
    "    DF_2011_novo.loc[(DF_2011_novo.UF == 16), \"UF\"] = \"Amapá\"\n",
    "    DF_2011_novo.loc[(DF_2011_novo.UF == 17), \"UF\"] = \"Tocantins\"\n",
    "    DF_2011_novo.loc[(DF_2011_novo.UF == 21), \"UF\"] = \"Maranhão\"\n",
    "    DF_2011_novo.loc[(DF_2011_novo.UF == 22), \"UF\"] = \"Piauí\"\n",
    "    DF_2011_novo.loc[(DF_2011_novo.UF == 23), \"UF\"] = \"Ceará\"\n",
    "    DF_2011_novo.loc[(DF_2011_novo.UF == 24), \"UF\"] = \"Rio Grande do Norte\"\n",
    "    DF_2011_novo.loc[(DF_2011_novo.UF == 25), \"UF\"] = \"Paraíba\"\n",
    "    DF_2011_novo.loc[(DF_2011_novo.UF == 26), \"UF\"] = \"Pernambuco\"\n",
    "    DF_2011_novo.loc[(DF_2011_novo.UF == 27), \"UF\"] = \"Alagoas\"\n",
    "    DF_2011_novo.loc[(DF_2011_novo.UF == 28), \"UF\"] = \"Sergipe\"\n",
    "    DF_2011_novo.loc[(DF_2011_novo.UF == 29), \"UF\"] = \"Bahia\"\n",
    "    DF_2011_novo.loc[(DF_2011_novo.UF == 31), \"UF\"] = \"Minas Gerais\"\n",
    "    DF_2011_novo.loc[(DF_2011_novo.UF == 32), \"UF\"] = \"Espírito Santo\"\n",
    "    DF_2011_novo.loc[(DF_2011_novo.UF == 33), \"UF\"] = \"Rio de Janeiro\"\n",
    "    DF_2011_novo.loc[(DF_2011_novo.UF == 35), \"UF\"] = \"São Paulo\"\n",
    "    DF_2011_novo.loc[(DF_2011_novo.UF == 41), \"UF\"] = \"Paraná\"\n",
    "    DF_2011_novo.loc[(DF_2011_novo.UF == 42), \"UF\"] = \"Santa Catarina\"\n",
    "    DF_2011_novo.loc[(DF_2011_novo.UF == 43), \"UF\"] = \"Rio Grande do Sul\"\n",
    "    DF_2011_novo.loc[(DF_2011_novo.UF == 50), \"UF\"] = \"Mato Grosso do Sul\"\n",
    "    DF_2011_novo.loc[(DF_2011_novo.UF == 51), \"UF\"] = \"Mato Grosso\"\n",
    "    DF_2011_novo.loc[(DF_2011_novo.UF == 52), \"UF\"] = \"Goiás\"\n",
    "    DF_2011_novo.loc[(DF_2011_novo.UF == 53), \"UF\"] = \"Distrito Federal\"\n",
    "\n",
    "except:\"\"\n",
    "    \n",
    "DF_2011_novo.UF.value_counts()"
   ]
  },
  {
   "cell_type": "code",
   "execution_count": 13,
   "metadata": {},
   "outputs": [
    {
     "data": {
      "text/plain": [
       "0    Rondonia\n",
       "1    Rondonia\n",
       "2    Rondonia\n",
       "3    Rondonia\n",
       "4    Rondonia\n",
       "Name: UF, dtype: object"
      ]
     },
     "execution_count": 13,
     "metadata": {},
     "output_type": "execute_result"
    }
   ],
   "source": [
    "try:\n",
    "    DF_2011_novo.loc[(DF_2011_novo.UF == 11), \"UF\"] = \"\"\n",
    "    \n",
    "except:\"\"\n",
    "    \n",
    "DF_2011_novo.UF.head()"
   ]
  },
  {
   "cell_type": "markdown",
   "metadata": {},
   "source": [
    "___\n",
    "## Análise e Resultados"
   ]
  },
  {
   "cell_type": "code",
   "execution_count": null,
   "metadata": {},
   "outputs": [],
   "source": []
  },
  {
   "cell_type": "code",
   "execution_count": null,
   "metadata": {},
   "outputs": [],
   "source": []
  },
  {
   "cell_type": "code",
   "execution_count": null,
   "metadata": {},
   "outputs": [],
   "source": []
  },
  {
   "cell_type": "markdown",
   "metadata": {},
   "source": [
    "___\n",
    "## Conclusão "
   ]
  },
  {
   "cell_type": "markdown",
   "metadata": {
    "collapsed": true
   },
   "source": [
    "Descreva aqui suas conclusões!"
   ]
  },
  {
   "cell_type": "code",
   "execution_count": null,
   "metadata": {},
   "outputs": [],
   "source": []
  }
 ],
 "metadata": {
  "anaconda-cloud": {},
  "kernelspec": {
   "display_name": "Python 3",
   "language": "python",
   "name": "python3"
  },
  "language_info": {
   "codemirror_mode": {
    "name": "ipython",
    "version": 3
   },
   "file_extension": ".py",
   "mimetype": "text/x-python",
   "name": "python",
   "nbconvert_exporter": "python",
   "pygments_lexer": "ipython3",
   "version": "3.6.4"
  }
 },
 "nbformat": 4,
 "nbformat_minor": 1
}
