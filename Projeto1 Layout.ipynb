{
 "cells": [
  {
   "cell_type": "markdown",
   "metadata": {},
   "source": [
    "___\n",
    "# Ciência dos Dados - PROJETO 1"
   ]
  },
  {
   "cell_type": "markdown",
   "metadata": {},
   "source": [
    "## Renato Tajima e Thiago Verardo\n",
    "___"
   ]
  },
  {
   "cell_type": "markdown",
   "metadata": {},
   "source": [
    "## Descrição do perfil dos brasileiros economicamente ativos"
   ]
  },
  {
   "cell_type": "markdown",
   "metadata": {},
   "source": [
    "___\n",
    "## Introdução\n",
    "\n",
    "O objetivo do projeto é analisar o perfil dos brasileiros economicamente ativos. Com isso, iremos analisar variáveis que influenciam um brasileiro a ser ativo economicamente, seja pela classe, escolaridade, estado, ou o que quisermos ver se é relacionado. \n",
    "\n",
    "As informações serão retiradas da PNAD.\n"
   ]
  },
  {
   "cell_type": "markdown",
   "metadata": {},
   "source": [
    "___\n",
    "## Filtros da base de dados"
   ]
  },
  {
   "cell_type": "code",
   "execution_count": 1,
   "metadata": {},
   "outputs": [],
   "source": [
    "%matplotlib inline\n",
    "import pandas as pd\n",
    "import matplotlib.pyplot as plt\n",
    "import numpy as np\n",
    "import os"
   ]
  },
  {
   "cell_type": "code",
   "execution_count": 2,
   "metadata": {},
   "outputs": [
    {
     "name": "stdout",
     "output_type": "stream",
     "text": [
      "Esperamos trabalhar no diretório\n",
      "C:\\Users\\thive\\Desktop\\Insper\\Terceiro Semestre\\CDdp\\CDdp\n"
     ]
    }
   ],
   "source": [
    "print('Esperamos trabalhar no diretório')\n",
    "print(os.getcwd())"
   ]
  },
  {
   "cell_type": "code",
   "execution_count": 3,
   "metadata": {},
   "outputs": [],
   "source": [
    "DF_2015 = pd.read_csv('PES2015.csv',sep=',')\n",
    "DF_2011 = pd.read_csv('PES2011.csv',sep=',')"
   ]
  },
  {
   "cell_type": "code",
   "execution_count": 4,
   "metadata": {},
   "outputs": [
    {
     "data": {
      "text/html": [
       "<div>\n",
       "<style scoped>\n",
       "    .dataframe tbody tr th:only-of-type {\n",
       "        vertical-align: middle;\n",
       "    }\n",
       "\n",
       "    .dataframe tbody tr th {\n",
       "        vertical-align: top;\n",
       "    }\n",
       "\n",
       "    .dataframe thead th {\n",
       "        text-align: right;\n",
       "    }\n",
       "</style>\n",
       "<table border=\"1\" class=\"dataframe\">\n",
       "  <thead>\n",
       "    <tr style=\"text-align: right;\">\n",
       "      <th></th>\n",
       "      <th>V0101</th>\n",
       "      <th>UF</th>\n",
       "      <th>V0102</th>\n",
       "      <th>V0103</th>\n",
       "      <th>V0301</th>\n",
       "      <th>V0302</th>\n",
       "      <th>V3031</th>\n",
       "      <th>V3032</th>\n",
       "      <th>V3033</th>\n",
       "      <th>V8005</th>\n",
       "      <th>...</th>\n",
       "      <th>V4741</th>\n",
       "      <th>V4742</th>\n",
       "      <th>V4743</th>\n",
       "      <th>V4745</th>\n",
       "      <th>V4746</th>\n",
       "      <th>V4747</th>\n",
       "      <th>V4748</th>\n",
       "      <th>V4749</th>\n",
       "      <th>V4750</th>\n",
       "      <th>V9993</th>\n",
       "    </tr>\n",
       "  </thead>\n",
       "  <tbody>\n",
       "    <tr>\n",
       "      <th>0</th>\n",
       "      <td>2011</td>\n",
       "      <td>11</td>\n",
       "      <td>11000000.0</td>\n",
       "      <td>1</td>\n",
       "      <td>1</td>\n",
       "      <td>2</td>\n",
       "      <td>25</td>\n",
       "      <td>12</td>\n",
       "      <td>1961</td>\n",
       "      <td>49</td>\n",
       "      <td>...</td>\n",
       "      <td>4.0</td>\n",
       "      <td>1.000000e+12</td>\n",
       "      <td>99.0</td>\n",
       "      <td>2</td>\n",
       "      <td>1.0</td>\n",
       "      <td>2.0</td>\n",
       "      <td>2.0</td>\n",
       "      <td>1.0</td>\n",
       "      <td>1.000000e+12</td>\n",
       "      <td>20100000.0</td>\n",
       "    </tr>\n",
       "    <tr>\n",
       "      <th>1</th>\n",
       "      <td>2011</td>\n",
       "      <td>11</td>\n",
       "      <td>11000000.0</td>\n",
       "      <td>1</td>\n",
       "      <td>2</td>\n",
       "      <td>4</td>\n",
       "      <td>1</td>\n",
       "      <td>4</td>\n",
       "      <td>1978</td>\n",
       "      <td>33</td>\n",
       "      <td>...</td>\n",
       "      <td>4.0</td>\n",
       "      <td>1.000000e+12</td>\n",
       "      <td>99.0</td>\n",
       "      <td>6</td>\n",
       "      <td>2.0</td>\n",
       "      <td>NaN</td>\n",
       "      <td>NaN</td>\n",
       "      <td>2.0</td>\n",
       "      <td>1.000000e+12</td>\n",
       "      <td>20100000.0</td>\n",
       "    </tr>\n",
       "    <tr>\n",
       "      <th>2</th>\n",
       "      <td>2011</td>\n",
       "      <td>11</td>\n",
       "      <td>11000000.0</td>\n",
       "      <td>1</td>\n",
       "      <td>3</td>\n",
       "      <td>4</td>\n",
       "      <td>15</td>\n",
       "      <td>6</td>\n",
       "      <td>1996</td>\n",
       "      <td>15</td>\n",
       "      <td>...</td>\n",
       "      <td>4.0</td>\n",
       "      <td>1.000000e+12</td>\n",
       "      <td>99.0</td>\n",
       "      <td>3</td>\n",
       "      <td>2.0</td>\n",
       "      <td>NaN</td>\n",
       "      <td>NaN</td>\n",
       "      <td>2.0</td>\n",
       "      <td>1.000000e+12</td>\n",
       "      <td>20100000.0</td>\n",
       "    </tr>\n",
       "    <tr>\n",
       "      <th>3</th>\n",
       "      <td>2011</td>\n",
       "      <td>11</td>\n",
       "      <td>11000000.0</td>\n",
       "      <td>1</td>\n",
       "      <td>4</td>\n",
       "      <td>2</td>\n",
       "      <td>3</td>\n",
       "      <td>12</td>\n",
       "      <td>2001</td>\n",
       "      <td>9</td>\n",
       "      <td>...</td>\n",
       "      <td>4.0</td>\n",
       "      <td>1.000000e+12</td>\n",
       "      <td>99.0</td>\n",
       "      <td>2</td>\n",
       "      <td>2.0</td>\n",
       "      <td>NaN</td>\n",
       "      <td>NaN</td>\n",
       "      <td>2.0</td>\n",
       "      <td>1.000000e+12</td>\n",
       "      <td>20100000.0</td>\n",
       "    </tr>\n",
       "    <tr>\n",
       "      <th>4</th>\n",
       "      <td>2011</td>\n",
       "      <td>11</td>\n",
       "      <td>11000000.0</td>\n",
       "      <td>2</td>\n",
       "      <td>1</td>\n",
       "      <td>4</td>\n",
       "      <td>16</td>\n",
       "      <td>10</td>\n",
       "      <td>1959</td>\n",
       "      <td>51</td>\n",
       "      <td>...</td>\n",
       "      <td>4.0</td>\n",
       "      <td>1.461000e+03</td>\n",
       "      <td>5.0</td>\n",
       "      <td>4</td>\n",
       "      <td>1.0</td>\n",
       "      <td>2.0</td>\n",
       "      <td>2.0</td>\n",
       "      <td>1.0</td>\n",
       "      <td>1.461000e+03</td>\n",
       "      <td>20100000.0</td>\n",
       "    </tr>\n",
       "  </tbody>\n",
       "</table>\n",
       "<p>5 rows × 324 columns</p>\n",
       "</div>"
      ],
      "text/plain": [
       "   V0101  UF       V0102  V0103  V0301  V0302  V3031  V3032  V3033  V8005  \\\n",
       "0   2011  11  11000000.0      1      1      2     25     12   1961     49   \n",
       "1   2011  11  11000000.0      1      2      4      1      4   1978     33   \n",
       "2   2011  11  11000000.0      1      3      4     15      6   1996     15   \n",
       "3   2011  11  11000000.0      1      4      2      3     12   2001      9   \n",
       "4   2011  11  11000000.0      2      1      4     16     10   1959     51   \n",
       "\n",
       "      ...      V4741         V4742  V4743  V4745  V4746  V4747  V4748  V4749  \\\n",
       "0     ...        4.0  1.000000e+12   99.0      2    1.0    2.0    2.0    1.0   \n",
       "1     ...        4.0  1.000000e+12   99.0      6    2.0    NaN    NaN    2.0   \n",
       "2     ...        4.0  1.000000e+12   99.0      3    2.0    NaN    NaN    2.0   \n",
       "3     ...        4.0  1.000000e+12   99.0      2    2.0    NaN    NaN    2.0   \n",
       "4     ...        4.0  1.461000e+03    5.0      4    1.0    2.0    2.0    1.0   \n",
       "\n",
       "          V4750       V9993  \n",
       "0  1.000000e+12  20100000.0  \n",
       "1  1.000000e+12  20100000.0  \n",
       "2  1.000000e+12  20100000.0  \n",
       "3  1.000000e+12  20100000.0  \n",
       "4  1.461000e+03  20100000.0  \n",
       "\n",
       "[5 rows x 324 columns]"
      ]
     },
     "execution_count": 4,
     "metadata": {},
     "output_type": "execute_result"
    }
   ],
   "source": [
    "DF_2011.head()"
   ]
  },
  {
   "cell_type": "markdown",
   "metadata": {
    "collapsed": true
   },
   "source": [
    "# Variáveis escolhidas:\n",
    "\n",
    "Nesse trecho nós iremos adicionar nossas váriaveis a serem analisadas dentro de um novo data frame, que são Unidade de Federação, sexo, idade, cor ou raça, estado civil, saber ler e escrever, rede de ensino, tem telefone móvel, renda. "
   ]
  },
  {
   "cell_type": "code",
   "execution_count": 5,
   "metadata": {},
   "outputs": [
    {
     "data": {
      "text/html": [
       "<div>\n",
       "<style scoped>\n",
       "    .dataframe tbody tr th:only-of-type {\n",
       "        vertical-align: middle;\n",
       "    }\n",
       "\n",
       "    .dataframe tbody tr th {\n",
       "        vertical-align: top;\n",
       "    }\n",
       "\n",
       "    .dataframe thead th {\n",
       "        text-align: right;\n",
       "    }\n",
       "</style>\n",
       "<table border=\"1\" class=\"dataframe\">\n",
       "  <thead>\n",
       "    <tr style=\"text-align: right;\">\n",
       "      <th></th>\n",
       "      <th>UF</th>\n",
       "      <th>SEXO</th>\n",
       "      <th>IDADE</th>\n",
       "      <th>RAÇA</th>\n",
       "      <th>EST_CIV</th>\n",
       "      <th>LER_ESC</th>\n",
       "      <th>REDE_ENS</th>\n",
       "      <th>MOBILE</th>\n",
       "      <th>RENDA</th>\n",
       "    </tr>\n",
       "  </thead>\n",
       "  <tbody>\n",
       "    <tr>\n",
       "      <th>0</th>\n",
       "      <td>11</td>\n",
       "      <td>2</td>\n",
       "      <td>49</td>\n",
       "      <td>2</td>\n",
       "      <td>NaN</td>\n",
       "      <td>1</td>\n",
       "      <td>NaN</td>\n",
       "      <td>1.0</td>\n",
       "      <td>1.000000e+12</td>\n",
       "    </tr>\n",
       "    <tr>\n",
       "      <th>1</th>\n",
       "      <td>11</td>\n",
       "      <td>4</td>\n",
       "      <td>33</td>\n",
       "      <td>8</td>\n",
       "      <td>NaN</td>\n",
       "      <td>1</td>\n",
       "      <td>4.0</td>\n",
       "      <td>1.0</td>\n",
       "      <td>NaN</td>\n",
       "    </tr>\n",
       "    <tr>\n",
       "      <th>2</th>\n",
       "      <td>11</td>\n",
       "      <td>4</td>\n",
       "      <td>15</td>\n",
       "      <td>8</td>\n",
       "      <td>0.0</td>\n",
       "      <td>1</td>\n",
       "      <td>2.0</td>\n",
       "      <td>3.0</td>\n",
       "      <td>NaN</td>\n",
       "    </tr>\n",
       "    <tr>\n",
       "      <th>3</th>\n",
       "      <td>11</td>\n",
       "      <td>2</td>\n",
       "      <td>9</td>\n",
       "      <td>2</td>\n",
       "      <td>NaN</td>\n",
       "      <td>1</td>\n",
       "      <td>2.0</td>\n",
       "      <td>NaN</td>\n",
       "      <td>NaN</td>\n",
       "    </tr>\n",
       "    <tr>\n",
       "      <th>4</th>\n",
       "      <td>11</td>\n",
       "      <td>4</td>\n",
       "      <td>51</td>\n",
       "      <td>4</td>\n",
       "      <td>1.0</td>\n",
       "      <td>1</td>\n",
       "      <td>NaN</td>\n",
       "      <td>1.0</td>\n",
       "      <td>2.800000e+03</td>\n",
       "    </tr>\n",
       "    <tr>\n",
       "      <th>5</th>\n",
       "      <td>11</td>\n",
       "      <td>2</td>\n",
       "      <td>22</td>\n",
       "      <td>4</td>\n",
       "      <td>1.0</td>\n",
       "      <td>1</td>\n",
       "      <td>NaN</td>\n",
       "      <td>1.0</td>\n",
       "      <td>5.450000e+02</td>\n",
       "    </tr>\n",
       "    <tr>\n",
       "      <th>6</th>\n",
       "      <td>11</td>\n",
       "      <td>4</td>\n",
       "      <td>17</td>\n",
       "      <td>4</td>\n",
       "      <td>0.0</td>\n",
       "      <td>1</td>\n",
       "      <td>2.0</td>\n",
       "      <td>1.0</td>\n",
       "      <td>NaN</td>\n",
       "    </tr>\n",
       "    <tr>\n",
       "      <th>7</th>\n",
       "      <td>11</td>\n",
       "      <td>4</td>\n",
       "      <td>10</td>\n",
       "      <td>8</td>\n",
       "      <td>0.0</td>\n",
       "      <td>1</td>\n",
       "      <td>2.0</td>\n",
       "      <td>1.0</td>\n",
       "      <td>NaN</td>\n",
       "    </tr>\n",
       "    <tr>\n",
       "      <th>8</th>\n",
       "      <td>11</td>\n",
       "      <td>4</td>\n",
       "      <td>30</td>\n",
       "      <td>2</td>\n",
       "      <td>0.0</td>\n",
       "      <td>1</td>\n",
       "      <td>NaN</td>\n",
       "      <td>1.0</td>\n",
       "      <td>1.000000e+12</td>\n",
       "    </tr>\n",
       "    <tr>\n",
       "      <th>9</th>\n",
       "      <td>11</td>\n",
       "      <td>4</td>\n",
       "      <td>11</td>\n",
       "      <td>8</td>\n",
       "      <td>0.0</td>\n",
       "      <td>1</td>\n",
       "      <td>2.0</td>\n",
       "      <td>3.0</td>\n",
       "      <td>8.000000e+01</td>\n",
       "    </tr>\n",
       "    <tr>\n",
       "      <th>10</th>\n",
       "      <td>11</td>\n",
       "      <td>4</td>\n",
       "      <td>37</td>\n",
       "      <td>8</td>\n",
       "      <td>NaN</td>\n",
       "      <td>1</td>\n",
       "      <td>NaN</td>\n",
       "      <td>1.0</td>\n",
       "      <td>NaN</td>\n",
       "    </tr>\n",
       "    <tr>\n",
       "      <th>11</th>\n",
       "      <td>11</td>\n",
       "      <td>2</td>\n",
       "      <td>51</td>\n",
       "      <td>8</td>\n",
       "      <td>NaN</td>\n",
       "      <td>1</td>\n",
       "      <td>NaN</td>\n",
       "      <td>1.0</td>\n",
       "      <td>3.000000e+03</td>\n",
       "    </tr>\n",
       "    <tr>\n",
       "      <th>12</th>\n",
       "      <td>11</td>\n",
       "      <td>4</td>\n",
       "      <td>17</td>\n",
       "      <td>8</td>\n",
       "      <td>0.0</td>\n",
       "      <td>1</td>\n",
       "      <td>2.0</td>\n",
       "      <td>1.0</td>\n",
       "      <td>NaN</td>\n",
       "    </tr>\n",
       "    <tr>\n",
       "      <th>13</th>\n",
       "      <td>11</td>\n",
       "      <td>2</td>\n",
       "      <td>12</td>\n",
       "      <td>8</td>\n",
       "      <td>0.0</td>\n",
       "      <td>1</td>\n",
       "      <td>2.0</td>\n",
       "      <td>3.0</td>\n",
       "      <td>NaN</td>\n",
       "    </tr>\n",
       "    <tr>\n",
       "      <th>14</th>\n",
       "      <td>11</td>\n",
       "      <td>2</td>\n",
       "      <td>3</td>\n",
       "      <td>8</td>\n",
       "      <td>NaN</td>\n",
       "      <td>3</td>\n",
       "      <td>NaN</td>\n",
       "      <td>NaN</td>\n",
       "      <td>NaN</td>\n",
       "    </tr>\n",
       "    <tr>\n",
       "      <th>15</th>\n",
       "      <td>11</td>\n",
       "      <td>4</td>\n",
       "      <td>67</td>\n",
       "      <td>8</td>\n",
       "      <td>7.0</td>\n",
       "      <td>1</td>\n",
       "      <td>NaN</td>\n",
       "      <td>1.0</td>\n",
       "      <td>NaN</td>\n",
       "    </tr>\n",
       "    <tr>\n",
       "      <th>16</th>\n",
       "      <td>11</td>\n",
       "      <td>2</td>\n",
       "      <td>89</td>\n",
       "      <td>8</td>\n",
       "      <td>NaN</td>\n",
       "      <td>1</td>\n",
       "      <td>NaN</td>\n",
       "      <td>3.0</td>\n",
       "      <td>NaN</td>\n",
       "    </tr>\n",
       "    <tr>\n",
       "      <th>17</th>\n",
       "      <td>11</td>\n",
       "      <td>4</td>\n",
       "      <td>72</td>\n",
       "      <td>8</td>\n",
       "      <td>NaN</td>\n",
       "      <td>1</td>\n",
       "      <td>NaN</td>\n",
       "      <td>3.0</td>\n",
       "      <td>NaN</td>\n",
       "    </tr>\n",
       "    <tr>\n",
       "      <th>18</th>\n",
       "      <td>11</td>\n",
       "      <td>4</td>\n",
       "      <td>49</td>\n",
       "      <td>8</td>\n",
       "      <td>0.0</td>\n",
       "      <td>1</td>\n",
       "      <td>NaN</td>\n",
       "      <td>1.0</td>\n",
       "      <td>1.500000e+03</td>\n",
       "    </tr>\n",
       "    <tr>\n",
       "      <th>19</th>\n",
       "      <td>11</td>\n",
       "      <td>2</td>\n",
       "      <td>24</td>\n",
       "      <td>8</td>\n",
       "      <td>0.0</td>\n",
       "      <td>1</td>\n",
       "      <td>2.0</td>\n",
       "      <td>1.0</td>\n",
       "      <td>9.000000e+02</td>\n",
       "    </tr>\n",
       "  </tbody>\n",
       "</table>\n",
       "</div>"
      ],
      "text/plain": [
       "    UF  SEXO  IDADE  RAÇA  EST_CIV  LER_ESC  REDE_ENS  MOBILE         RENDA\n",
       "0   11     2     49     2      NaN        1       NaN     1.0  1.000000e+12\n",
       "1   11     4     33     8      NaN        1       4.0     1.0           NaN\n",
       "2   11     4     15     8      0.0        1       2.0     3.0           NaN\n",
       "3   11     2      9     2      NaN        1       2.0     NaN           NaN\n",
       "4   11     4     51     4      1.0        1       NaN     1.0  2.800000e+03\n",
       "5   11     2     22     4      1.0        1       NaN     1.0  5.450000e+02\n",
       "6   11     4     17     4      0.0        1       2.0     1.0           NaN\n",
       "7   11     4     10     8      0.0        1       2.0     1.0           NaN\n",
       "8   11     4     30     2      0.0        1       NaN     1.0  1.000000e+12\n",
       "9   11     4     11     8      0.0        1       2.0     3.0  8.000000e+01\n",
       "10  11     4     37     8      NaN        1       NaN     1.0           NaN\n",
       "11  11     2     51     8      NaN        1       NaN     1.0  3.000000e+03\n",
       "12  11     4     17     8      0.0        1       2.0     1.0           NaN\n",
       "13  11     2     12     8      0.0        1       2.0     3.0           NaN\n",
       "14  11     2      3     8      NaN        3       NaN     NaN           NaN\n",
       "15  11     4     67     8      7.0        1       NaN     1.0           NaN\n",
       "16  11     2     89     8      NaN        1       NaN     3.0           NaN\n",
       "17  11     4     72     8      NaN        1       NaN     3.0           NaN\n",
       "18  11     4     49     8      0.0        1       NaN     1.0  1.500000e+03\n",
       "19  11     2     24     8      0.0        1       2.0     1.0  9.000000e+02"
      ]
     },
     "execution_count": 5,
     "metadata": {},
     "output_type": "execute_result"
    }
   ],
   "source": [
    "#Criando o novo data frame para o ano de 2011\n",
    "\n",
    "DF_2011_novo = pd.DataFrame()\n",
    "DF_2011_novo[['UF','SEXO','IDADE','RAÇA','EST_CIV','LER_ESC','REDE_ENS', 'MOBILE','RENDA']] = DF_2011[['UF','V0302','V8005','V0404','V4011','V0601','V6002', 'V06112', 'V9532']]\n",
    "DF_2011_novo.head(20)"
   ]
  },
  {
   "cell_type": "code",
   "execution_count": 6,
   "metadata": {},
   "outputs": [
    {
     "data": {
      "text/plain": [
       "São Paulo              38237\n",
       "Minas Gerais           31842\n",
       "Rio Grande do Sul      28459\n",
       "Bahia                  27795\n",
       "Rio de Janeiro         25094\n",
       "Pará                   23539\n",
       "Pernambuco             21135\n",
       "Ceará                  18951\n",
       "Paraná                 17794\n",
       "Goiás                  14953\n",
       "Amazonas               11308\n",
       "Santa Catarina          9724\n",
       "Maranhão                9168\n",
       "Distrito Federal        8732\n",
       "Mato Grosso             7378\n",
       "Espírito Santo          7135\n",
       "Rondonia                6825\n",
       "Mato Grosso do Sul      6414\n",
       "Paraíba                 6169\n",
       "Sergipe                 5894\n",
       "Tocantins               5892\n",
       "Piauí                   5618\n",
       "Alagoas                 5534\n",
       "Rio Grande do Norte     5427\n",
       "Acre                    4076\n",
       "Amapá                   3075\n",
       "Roraima                 2751\n",
       "Name: UF, dtype: int64"
      ]
     },
     "execution_count": 6,
     "metadata": {},
     "output_type": "execute_result"
    }
   ],
   "source": [
    "#Adicionando a variável de Unidade de Federação no data frame\n",
    "\n",
    "try:\n",
    "    DF_2011_novo.loc[(DF_2011_novo.UF == 11), \"UF\"] = \"Rondonia\"\n",
    "    DF_2011_novo.loc[(DF_2011_novo.UF == 12), \"UF\"] = \"Acre\"\n",
    "    DF_2011_novo.loc[(DF_2011_novo.UF == 13), \"UF\"] = \"Amazonas\"\n",
    "    DF_2011_novo.loc[(DF_2011_novo.UF == 14), \"UF\"] = \"Roraima\"\n",
    "    DF_2011_novo.loc[(DF_2011_novo.UF == 15), \"UF\"] = \"Pará\"\n",
    "    DF_2011_novo.loc[(DF_2011_novo.UF == 16), \"UF\"] = \"Amapá\"\n",
    "    DF_2011_novo.loc[(DF_2011_novo.UF == 17), \"UF\"] = \"Tocantins\"\n",
    "    DF_2011_novo.loc[(DF_2011_novo.UF == 21), \"UF\"] = \"Maranhão\"\n",
    "    DF_2011_novo.loc[(DF_2011_novo.UF == 22), \"UF\"] = \"Piauí\"\n",
    "    DF_2011_novo.loc[(DF_2011_novo.UF == 23), \"UF\"] = \"Ceará\"\n",
    "    DF_2011_novo.loc[(DF_2011_novo.UF == 24), \"UF\"] = \"Rio Grande do Norte\"\n",
    "    DF_2011_novo.loc[(DF_2011_novo.UF == 25), \"UF\"] = \"Paraíba\"\n",
    "    DF_2011_novo.loc[(DF_2011_novo.UF == 26), \"UF\"] = \"Pernambuco\"\n",
    "    DF_2011_novo.loc[(DF_2011_novo.UF == 27), \"UF\"] = \"Alagoas\"\n",
    "    DF_2011_novo.loc[(DF_2011_novo.UF == 28), \"UF\"] = \"Sergipe\"\n",
    "    DF_2011_novo.loc[(DF_2011_novo.UF == 29), \"UF\"] = \"Bahia\"\n",
    "    DF_2011_novo.loc[(DF_2011_novo.UF == 31), \"UF\"] = \"Minas Gerais\"\n",
    "    DF_2011_novo.loc[(DF_2011_novo.UF == 32), \"UF\"] = \"Espírito Santo\"\n",
    "    DF_2011_novo.loc[(DF_2011_novo.UF == 33), \"UF\"] = \"Rio de Janeiro\"\n",
    "    DF_2011_novo.loc[(DF_2011_novo.UF == 35), \"UF\"] = \"São Paulo\"\n",
    "    DF_2011_novo.loc[(DF_2011_novo.UF == 41), \"UF\"] = \"Paraná\"\n",
    "    DF_2011_novo.loc[(DF_2011_novo.UF == 42), \"UF\"] = \"Santa Catarina\"\n",
    "    DF_2011_novo.loc[(DF_2011_novo.UF == 43), \"UF\"] = \"Rio Grande do Sul\"\n",
    "    DF_2011_novo.loc[(DF_2011_novo.UF == 50), \"UF\"] = \"Mato Grosso do Sul\"\n",
    "    DF_2011_novo.loc[(DF_2011_novo.UF == 51), \"UF\"] = \"Mato Grosso\"\n",
    "    DF_2011_novo.loc[(DF_2011_novo.UF == 52), \"UF\"] = \"Goiás\"\n",
    "    DF_2011_novo.loc[(DF_2011_novo.UF == 53), \"UF\"] = \"Distrito Federal\"\n",
    "\n",
    "except:\"\"\n",
    "    \n",
    "DF_2011_novo.UF.value_counts()"
   ]
  },
  {
   "cell_type": "code",
   "execution_count": 7,
   "metadata": {},
   "outputs": [
    {
     "data": {
      "text/plain": [
       "0    Masculino\n",
       "1     Feminino\n",
       "2     Feminino\n",
       "3    Masculino\n",
       "4     Feminino\n",
       "Name: SEXO, dtype: object"
      ]
     },
     "execution_count": 7,
     "metadata": {},
     "output_type": "execute_result"
    }
   ],
   "source": [
    "#Adicionando a variável sexo ao data frame\n",
    "\n",
    "try:\n",
    "    DF_2011_novo.loc[(DF_2011_novo.SEXO == 2), \"SEXO\"] = \"Masculino\"\n",
    "    DF_2011_novo.loc[(DF_2011_novo.SEXO == 4), \"SEXO\"] = \"Feminino\"\n",
    "    \n",
    "except:\"\"\n",
    "    \n",
    "DF_2011_novo.SEXO.head()"
   ]
  },
  {
   "cell_type": "code",
   "execution_count": 8,
   "metadata": {},
   "outputs": [
    {
     "data": {
      "text/plain": [
       "0    Branca\n",
       "1     Parda\n",
       "2     Parda\n",
       "3    Branca\n",
       "4     Preta\n",
       "Name: RAÇA, dtype: object"
      ]
     },
     "execution_count": 8,
     "metadata": {},
     "output_type": "execute_result"
    }
   ],
   "source": [
    "#Adicionando a variável cor ou raça ao data frame\n",
    "\n",
    "try:\n",
    "    DF_2011_novo.loc[(DF_2011_novo.RAÇA == 2), \"RAÇA\"] = \"Branca\"\n",
    "    DF_2011_novo.loc[(DF_2011_novo.RAÇA == 4), \"RAÇA\"] = \"Preta\"\n",
    "    DF_2011_novo.loc[(DF_2011_novo.RAÇA == 6), \"RAÇA\"] = \"Amarela\"\n",
    "    DF_2011_novo.loc[(DF_2011_novo.RAÇA == 8), \"RAÇA\"] = \"Parda\"\n",
    "    DF_2011_novo.loc[(DF_2011_novo.RAÇA == 0), \"RAÇA\"] = \"Indígena\"\n",
    "    DF_2011_novo.loc[(DF_2011_novo.RAÇA == 9), \"RAÇA\"] = \"Sem declaração\"\n",
    "    \n",
    "except:\"\"\n",
    "    \n",
    "DF_2011_novo.RAÇA.head()"
   ]
  },
  {
   "cell_type": "code",
   "execution_count": 9,
   "metadata": {},
   "outputs": [
    {
     "data": {
      "text/plain": [
       "0    Não Se Aplica\n",
       "1    Não Se Aplica\n",
       "2      Solteiro(a)\n",
       "3    Não Se Aplica\n",
       "4        Casado(a)\n",
       "Name: EST_CIV, dtype: object"
      ]
     },
     "execution_count": 9,
     "metadata": {},
     "output_type": "execute_result"
    }
   ],
   "source": [
    "#Adicionando a variável estado civil ao data frame\n",
    "try:\n",
    "    DF_2011_novo.loc[(DF_2011_novo.EST_CIV == 1), \"EST_CIV\"] = \"Casado(a)\"\n",
    "    DF_2011_novo.loc[(DF_2011_novo.EST_CIV == 3), \"EST_CIV\"] = \"Desquitado(a) ou Separado(a)\"\n",
    "    DF_2011_novo.loc[(DF_2011_novo.EST_CIV == 5), \"EST_CIV\"] = \"Divorciado(a)\"\n",
    "    DF_2011_novo.loc[(DF_2011_novo.EST_CIV == 7), \"EST_CIV\"] = \"Viúvo(a)\"\n",
    "    DF_2011_novo.loc[(DF_2011_novo.EST_CIV == 0), \"EST_CIV\"] = \"Solteiro(a)\"\n",
    "    DF_2011_novo.loc[(DF_2011_novo.EST_CIV.isnull() == True), \"EST_CIV\"] = \"Não Se Aplica\" \n",
    "    \n",
    "except:\"\"\n",
    "    \n",
    "    \n",
    "DF_2011_novo.EST_CIV.head()"
   ]
  },
  {
   "cell_type": "code",
   "execution_count": 10,
   "metadata": {},
   "outputs": [
    {
     "data": {
      "text/plain": [
       "0    Sim\n",
       "1    Sim\n",
       "2    Sim\n",
       "3    Sim\n",
       "4    Sim\n",
       "Name: LER_ESC, dtype: object"
      ]
     },
     "execution_count": 10,
     "metadata": {},
     "output_type": "execute_result"
    }
   ],
   "source": [
    "#Adicionando a variável saber ler e escrever ao data frame\n",
    "\n",
    "try:\n",
    "    DF_2011_novo.loc[(DF_2011_novo.LER_ESC == 1), \"LER_ESC\"] = \"Sim\"\n",
    "    DF_2011_novo.loc[(DF_2011_novo.LER_ESC == 3), \"LER_ESC\"] = \"Não\"\n",
    "    \n",
    "except:\"\"\n",
    "    \n",
    "    \n",
    "DF_2011_novo.LER_ESC.head()"
   ]
  },
  {
   "cell_type": "code",
   "execution_count": 11,
   "metadata": {},
   "outputs": [
    {
     "data": {
      "text/plain": [
       "0    Não Se Aplica\n",
       "1          Privado\n",
       "2          Público\n",
       "3          Público\n",
       "4    Não Se Aplica\n",
       "Name: REDE_ENS, dtype: object"
      ]
     },
     "execution_count": 11,
     "metadata": {},
     "output_type": "execute_result"
    }
   ],
   "source": [
    "#Adicionando a variável rede de ensino ao data frame\n",
    "\n",
    "try:\n",
    "    DF_2011_novo.loc[(DF_2011_novo.REDE_ENS == 2), \"REDE_ENS\"] = \"Público\"\n",
    "    DF_2011_novo.loc[(DF_2011_novo.REDE_ENS == 4), \"REDE_ENS\"] = \"Privado\"\n",
    "    DF_2011_novo.loc[(DF_2011_novo.REDE_ENS.isnull() == True), \"REDE_ENS\"] = \"Não Se Aplica\"     \n",
    "except:\"\"\n",
    "    \n",
    "    \n",
    "DF_2011_novo.REDE_ENS.head()"
   ]
  },
  {
   "cell_type": "code",
   "execution_count": 12,
   "metadata": {},
   "outputs": [
    {
     "data": {
      "text/plain": [
       "0              Sim\n",
       "1              Sim\n",
       "2              Não\n",
       "3    Não Se Aplica\n",
       "4              Sim\n",
       "Name: MOBILE, dtype: object"
      ]
     },
     "execution_count": 12,
     "metadata": {},
     "output_type": "execute_result"
    }
   ],
   "source": [
    "#Adicionando a variável de possuir telefone móvel ao data frame\n",
    "\n",
    "try:\n",
    "    DF_2011_novo.loc[(DF_2011_novo.MOBILE == 1), \"MOBILE\"] = \"Sim\"\n",
    "    DF_2011_novo.loc[(DF_2011_novo.MOBILE == 3), \"MOBILE\"] = \"Não\"\n",
    "    DF_2011_novo.loc[(DF_2011_novo.MOBILE.isnull() == True), \"MOBILE\"] = \"Não Se Aplica\"  \n",
    "    \n",
    "except:\"\"\n",
    "    \n",
    "    \n",
    "DF_2011_novo.MOBILE.head()"
   ]
  },
  {
   "cell_type": "code",
   "execution_count": 13,
   "metadata": {},
   "outputs": [
    {
     "data": {
      "text/plain": [
       "0    49\n",
       "1    33\n",
       "2    15\n",
       "3     9\n",
       "4    51\n",
       "Name: IDADE, dtype: object"
      ]
     },
     "execution_count": 13,
     "metadata": {},
     "output_type": "execute_result"
    }
   ],
   "source": [
    "#Adicionando a variável idade ao data frame\n",
    "#Vamos analisar principalmente a parte classificada como Jovem Adulta da população, pelo fato de ela compor uma grande parte\n",
    "#da população economicamente ativa\n",
    "\n",
    "\n",
    "try:\n",
    "#     DF_2011_novo.loc[(DF_2011_novo.IDADE >= 0)&(DF_2011_novo.IDADE <= 13), \"IDADE\"] = \"Criança\"\n",
    "#     DF_2011_novo.loc[(DF_2011_novo.IDADE >= 14)&(DF_2011_novo.IDADE <= 17), \"IDADE\"] = \"Adolescente\"\n",
    "    DF_2011_novo.loc[(DF_2011_novo.IDADE >= 18 )&(DF_2011_novo.IDADE <= 30), \"IDADE\"] = \"Jovem Adulto\"\n",
    "#     DF_2011_novo.loc[(DF_2011_novo.IDADE >= 31)&(DF_2011_novo.IDADE <=50), \"IDADE\"] = \"Adulto\"\n",
    "#     DF_2011_novo.loc[(DF_2011_novo.IDADE >= 51)&(DF_2011_novo.IDADE <= 120), \"IDADE\"] = \"Idoso\"\n",
    "    DF_2011_novo.loc[(DF_2011_novo.IDADE.isnull() == True), \"IDADE\"] <= \"Não Se Aplica\"  \n",
    "except:\"\"\n",
    "\n",
    "    \n",
    "DF_2011_novo.IDADE.head()"
   ]
  },
  {
   "cell_type": "code",
   "execution_count": 14,
   "metadata": {},
   "outputs": [
    {
     "data": {
      "text/plain": [
       "0    Não Declarado\n",
       "1    Não Se Aplica\n",
       "2    Não Se Aplica\n",
       "3    Não Se Aplica\n",
       "4             2800\n",
       "Name: RENDA, dtype: object"
      ]
     },
     "execution_count": 14,
     "metadata": {},
     "output_type": "execute_result"
    }
   ],
   "source": [
    "#Adicionando a variável renda ao data frame\n",
    "#Nessa váriavel nós dividimos as classes sociais segundo o http://g1.globo.com/economia/seu-dinheiro/noticia/2013/08/veja-diferencas-entre-conceitos-que-definem-classes-sociais-no-brasil.html\n",
    "#Vamos analisar principalmente a Baixa Classe Alta pelo nosso próprio interesse\n",
    "\n",
    "try:\n",
    "#     DF_2011_novo.loc[(DF_2011_novo.RENDA >= 0)&(DF_2011_novo.RENDA <= 81), \"RENDA\"] = \"Extrema Pobreza\"\n",
    "#     DF_2011_novo.loc[(DF_2011_novo.RENDA == 82)&(DF_2011_novo.RENDA == 162), \"RENDA\"] = \"Pobre\"\n",
    "#     DF_2011_novo.loc[(DF_2011_novo.RENDA == 163 )&(DF_2011_novo.RENDA == 291), \"RENDA\"] = \"Vulnerável\"\n",
    "#     DF_2011_novo.loc[(DF_2011_novo.RENDA == 292)&(DF_2011_novo.RENDA == 441), \"RENDA\"] = \"Baixa Classe Média\"\n",
    "#     DF_2011_novo.loc[(DF_2011_novo.RENDA == 442)&(DF_2011_novo.RENDA == 641), \"RENDA\"] = \"Classe Média\"\n",
    "#     DF_2011_novo.loc[(DF_2011_novo.RENDA == 642)&(DF_2011_novo.RENDA == 1019), \"RENDA\"] = \"Alta Classe Média\"\n",
    "    DF_2011_novo.loc[(DF_2011_novo.RENDA >= 1020)&(DF_2011_novo.RENDA <= 2480), \"RENDA\"] = \"Baixa Classe Alta\"\n",
    "#    DF_2011_novo.loc[(DF_2011_novo.RENDA >= 2482)&(DF_2011_novo.RENDA <= 800000000), \"RENDA\"] = \"Classe Alta\"\n",
    "    DF_2011_novo.loc[(DF_2011_novo.RENDA == 1e+12), \"RENDA\"] = \"Não Declarado\"\n",
    "    DF_2011_novo.loc[(DF_2011_novo.RENDA.isnull() == True), \"RENDA\"] = \"Não Se Aplica\"  \n",
    "except:\"\"\n",
    "\n",
    "    \n",
    "DF_2011_novo.RENDA.head()"
   ]
  },
  {
   "cell_type": "code",
   "execution_count": 15,
   "metadata": {},
   "outputs": [
    {
     "data": {
      "text/html": [
       "<div>\n",
       "<style scoped>\n",
       "    .dataframe tbody tr th:only-of-type {\n",
       "        vertical-align: middle;\n",
       "    }\n",
       "\n",
       "    .dataframe tbody tr th {\n",
       "        vertical-align: top;\n",
       "    }\n",
       "\n",
       "    .dataframe thead th {\n",
       "        text-align: right;\n",
       "    }\n",
       "</style>\n",
       "<table border=\"1\" class=\"dataframe\">\n",
       "  <thead>\n",
       "    <tr style=\"text-align: right;\">\n",
       "      <th></th>\n",
       "      <th>UF</th>\n",
       "      <th>SEXO</th>\n",
       "      <th>IDADE</th>\n",
       "      <th>RAÇA</th>\n",
       "      <th>EST_CIV</th>\n",
       "      <th>LER_ESC</th>\n",
       "      <th>REDE_ENS</th>\n",
       "      <th>MOBILE</th>\n",
       "      <th>RENDA</th>\n",
       "    </tr>\n",
       "  </thead>\n",
       "  <tbody>\n",
       "    <tr>\n",
       "      <th>0</th>\n",
       "      <td>Rondonia</td>\n",
       "      <td>Masculino</td>\n",
       "      <td>49</td>\n",
       "      <td>Branca</td>\n",
       "      <td>Não Se Aplica</td>\n",
       "      <td>Sim</td>\n",
       "      <td>Não Se Aplica</td>\n",
       "      <td>Sim</td>\n",
       "      <td>Não Declarado</td>\n",
       "    </tr>\n",
       "    <tr>\n",
       "      <th>1</th>\n",
       "      <td>Rondonia</td>\n",
       "      <td>Feminino</td>\n",
       "      <td>33</td>\n",
       "      <td>Parda</td>\n",
       "      <td>Não Se Aplica</td>\n",
       "      <td>Sim</td>\n",
       "      <td>Privado</td>\n",
       "      <td>Sim</td>\n",
       "      <td>Não Se Aplica</td>\n",
       "    </tr>\n",
       "    <tr>\n",
       "      <th>2</th>\n",
       "      <td>Rondonia</td>\n",
       "      <td>Feminino</td>\n",
       "      <td>15</td>\n",
       "      <td>Parda</td>\n",
       "      <td>Solteiro(a)</td>\n",
       "      <td>Sim</td>\n",
       "      <td>Público</td>\n",
       "      <td>Não</td>\n",
       "      <td>Não Se Aplica</td>\n",
       "    </tr>\n",
       "    <tr>\n",
       "      <th>3</th>\n",
       "      <td>Rondonia</td>\n",
       "      <td>Masculino</td>\n",
       "      <td>9</td>\n",
       "      <td>Branca</td>\n",
       "      <td>Não Se Aplica</td>\n",
       "      <td>Sim</td>\n",
       "      <td>Público</td>\n",
       "      <td>Não Se Aplica</td>\n",
       "      <td>Não Se Aplica</td>\n",
       "    </tr>\n",
       "    <tr>\n",
       "      <th>4</th>\n",
       "      <td>Rondonia</td>\n",
       "      <td>Feminino</td>\n",
       "      <td>51</td>\n",
       "      <td>Preta</td>\n",
       "      <td>Casado(a)</td>\n",
       "      <td>Sim</td>\n",
       "      <td>Não Se Aplica</td>\n",
       "      <td>Sim</td>\n",
       "      <td>2800</td>\n",
       "    </tr>\n",
       "  </tbody>\n",
       "</table>\n",
       "</div>"
      ],
      "text/plain": [
       "         UF       SEXO IDADE    RAÇA        EST_CIV LER_ESC       REDE_ENS  \\\n",
       "0  Rondonia  Masculino    49  Branca  Não Se Aplica     Sim  Não Se Aplica   \n",
       "1  Rondonia   Feminino    33   Parda  Não Se Aplica     Sim        Privado   \n",
       "2  Rondonia   Feminino    15   Parda    Solteiro(a)     Sim        Público   \n",
       "3  Rondonia  Masculino     9  Branca  Não Se Aplica     Sim        Público   \n",
       "4  Rondonia   Feminino    51   Preta      Casado(a)     Sim  Não Se Aplica   \n",
       "\n",
       "          MOBILE          RENDA  \n",
       "0            Sim  Não Declarado  \n",
       "1            Sim  Não Se Aplica  \n",
       "2            Não  Não Se Aplica  \n",
       "3  Não Se Aplica  Não Se Aplica  \n",
       "4            Sim           2800  "
      ]
     },
     "execution_count": 15,
     "metadata": {},
     "output_type": "execute_result"
    }
   ],
   "source": [
    "DF_2011_novo.head()"
   ]
  },
  {
   "cell_type": "code",
   "execution_count": 16,
   "metadata": {},
   "outputs": [
    {
     "data": {
      "text/html": [
       "<div>\n",
       "<style scoped>\n",
       "    .dataframe tbody tr th:only-of-type {\n",
       "        vertical-align: middle;\n",
       "    }\n",
       "\n",
       "    .dataframe tbody tr th {\n",
       "        vertical-align: top;\n",
       "    }\n",
       "\n",
       "    .dataframe thead th {\n",
       "        text-align: right;\n",
       "    }\n",
       "</style>\n",
       "<table border=\"1\" class=\"dataframe\">\n",
       "  <thead>\n",
       "    <tr style=\"text-align: right;\">\n",
       "      <th></th>\n",
       "      <th>UF</th>\n",
       "      <th>SEXO</th>\n",
       "      <th>IDADE</th>\n",
       "      <th>RAÇA</th>\n",
       "      <th>EST_CIV</th>\n",
       "      <th>LER_ESC</th>\n",
       "      <th>REDE_ENS</th>\n",
       "      <th>MOBILE</th>\n",
       "      <th>RENDA</th>\n",
       "    </tr>\n",
       "  </thead>\n",
       "  <tbody>\n",
       "    <tr>\n",
       "      <th>0</th>\n",
       "      <td>11</td>\n",
       "      <td>2</td>\n",
       "      <td>23</td>\n",
       "      <td>8</td>\n",
       "      <td>0.0</td>\n",
       "      <td>1</td>\n",
       "      <td>NaN</td>\n",
       "      <td>1.0</td>\n",
       "      <td>800.0</td>\n",
       "    </tr>\n",
       "    <tr>\n",
       "      <th>1</th>\n",
       "      <td>11</td>\n",
       "      <td>4</td>\n",
       "      <td>23</td>\n",
       "      <td>2</td>\n",
       "      <td>5.0</td>\n",
       "      <td>1</td>\n",
       "      <td>NaN</td>\n",
       "      <td>1.0</td>\n",
       "      <td>1150.0</td>\n",
       "    </tr>\n",
       "    <tr>\n",
       "      <th>2</th>\n",
       "      <td>11</td>\n",
       "      <td>4</td>\n",
       "      <td>35</td>\n",
       "      <td>8</td>\n",
       "      <td>NaN</td>\n",
       "      <td>1</td>\n",
       "      <td>4.0</td>\n",
       "      <td>1.0</td>\n",
       "      <td>880.0</td>\n",
       "    </tr>\n",
       "    <tr>\n",
       "      <th>3</th>\n",
       "      <td>11</td>\n",
       "      <td>2</td>\n",
       "      <td>34</td>\n",
       "      <td>8</td>\n",
       "      <td>NaN</td>\n",
       "      <td>1</td>\n",
       "      <td>NaN</td>\n",
       "      <td>1.0</td>\n",
       "      <td>3000.0</td>\n",
       "    </tr>\n",
       "    <tr>\n",
       "      <th>4</th>\n",
       "      <td>11</td>\n",
       "      <td>4</td>\n",
       "      <td>11</td>\n",
       "      <td>8</td>\n",
       "      <td>0.0</td>\n",
       "      <td>1</td>\n",
       "      <td>4.0</td>\n",
       "      <td>1.0</td>\n",
       "      <td>NaN</td>\n",
       "    </tr>\n",
       "  </tbody>\n",
       "</table>\n",
       "</div>"
      ],
      "text/plain": [
       "   UF  SEXO  IDADE  RAÇA  EST_CIV  LER_ESC  REDE_ENS  MOBILE   RENDA\n",
       "0  11     2     23     8      0.0        1       NaN     1.0   800.0\n",
       "1  11     4     23     2      5.0        1       NaN     1.0  1150.0\n",
       "2  11     4     35     8      NaN        1       4.0     1.0   880.0\n",
       "3  11     2     34     8      NaN        1       NaN     1.0  3000.0\n",
       "4  11     4     11     8      0.0        1       4.0     1.0     NaN"
      ]
     },
     "execution_count": 16,
     "metadata": {},
     "output_type": "execute_result"
    }
   ],
   "source": [
    "#Criando o novo data frame para o ano de 2011\n",
    "#Vamos fazer o mesmo procedimento a cima para o ano de 2015\n",
    "\n",
    "DF_2015_novo = pd.DataFrame()\n",
    "DF_2015_novo[['UF','SEXO','IDADE','RAÇA','EST_CIV','LER_ESC','REDE_ENS', 'MOBILE','RENDA']] = DF_2015[['UF','V0302','V8005','V0404','V4011','V0601','V6002', 'V06112', 'V9532']]\n",
    "DF_2015_novo.head()"
   ]
  },
  {
   "cell_type": "code",
   "execution_count": 17,
   "metadata": {},
   "outputs": [
    {
     "data": {
      "text/plain": [
       "São Paulo              40008\n",
       "Minas Gerais           32933\n",
       "Rio Grande do Sul      26259\n",
       "Bahia                  26155\n",
       "Rio de Janeiro         25858\n",
       "Pará                   22489\n",
       "Pernambuco             21309\n",
       "Paraná                 18707\n",
       "Ceará                  17819\n",
       "Goiás                  14666\n",
       "Amazonas               12144\n",
       "Santa Catarina          9544\n",
       "Maranhão                9194\n",
       "Distrito Federal        9014\n",
       "Mato Grosso             7477\n",
       "Espírito Santo          6568\n",
       "Rondonia                6562\n",
       "Paraíba                 6151\n",
       "Sergipe                 6134\n",
       "Mato Grosso do Sul      6018\n",
       "Tocantins               5999\n",
       "Piauí                   5697\n",
       "Alagoas                 5316\n",
       "Rio Grande do Norte     4884\n",
       "Acre                    4603\n",
       "Amapá                   2934\n",
       "Roraima                 2462\n",
       "Name: UF, dtype: int64"
      ]
     },
     "execution_count": 17,
     "metadata": {},
     "output_type": "execute_result"
    }
   ],
   "source": [
    "try:\n",
    "    DF_2015_novo.loc[(DF_2015_novo.UF == 11), \"UF\"] = \"Rondonia\"\n",
    "    DF_2015_novo.loc[(DF_2015_novo.UF == 12), \"UF\"] = \"Acre\"\n",
    "    DF_2015_novo.loc[(DF_2015_novo.UF == 13), \"UF\"] = \"Amazonas\"\n",
    "    DF_2015_novo.loc[(DF_2015_novo.UF == 14), \"UF\"] = \"Roraima\"\n",
    "    DF_2015_novo.loc[(DF_2015_novo.UF == 15), \"UF\"] = \"Pará\"\n",
    "    DF_2015_novo.loc[(DF_2015_novo.UF == 16), \"UF\"] = \"Amapá\"\n",
    "    DF_2015_novo.loc[(DF_2015_novo.UF == 17), \"UF\"] = \"Tocantins\"\n",
    "    DF_2015_novo.loc[(DF_2015_novo.UF == 21), \"UF\"] = \"Maranhão\"\n",
    "    DF_2015_novo.loc[(DF_2015_novo.UF == 22), \"UF\"] = \"Piauí\"\n",
    "    DF_2015_novo.loc[(DF_2015_novo.UF == 23), \"UF\"] = \"Ceará\"\n",
    "    DF_2015_novo.loc[(DF_2015_novo.UF == 24), \"UF\"] = \"Rio Grande do Norte\"\n",
    "    DF_2015_novo.loc[(DF_2015_novo.UF == 25), \"UF\"] = \"Paraíba\"\n",
    "    DF_2015_novo.loc[(DF_2015_novo.UF == 26), \"UF\"] = \"Pernambuco\"\n",
    "    DF_2015_novo.loc[(DF_2015_novo.UF == 27), \"UF\"] = \"Alagoas\"\n",
    "    DF_2015_novo.loc[(DF_2015_novo.UF == 28), \"UF\"] = \"Sergipe\"\n",
    "    DF_2015_novo.loc[(DF_2015_novo.UF == 29), \"UF\"] = \"Bahia\"\n",
    "    DF_2015_novo.loc[(DF_2015_novo.UF == 31), \"UF\"] = \"Minas Gerais\"\n",
    "    DF_2015_novo.loc[(DF_2015_novo.UF == 32), \"UF\"] = \"Espírito Santo\"\n",
    "    DF_2015_novo.loc[(DF_2015_novo.UF == 33), \"UF\"] = \"Rio de Janeiro\"\n",
    "    DF_2015_novo.loc[(DF_2015_novo.UF == 35), \"UF\"] = \"São Paulo\"\n",
    "    DF_2015_novo.loc[(DF_2015_novo.UF == 41), \"UF\"] = \"Paraná\"\n",
    "    DF_2015_novo.loc[(DF_2015_novo.UF == 42), \"UF\"] = \"Santa Catarina\"\n",
    "    DF_2015_novo.loc[(DF_2015_novo.UF == 43), \"UF\"] = \"Rio Grande do Sul\"\n",
    "    DF_2015_novo.loc[(DF_2015_novo.UF == 50), \"UF\"] = \"Mato Grosso do Sul\"\n",
    "    DF_2015_novo.loc[(DF_2015_novo.UF == 51), \"UF\"] = \"Mato Grosso\"\n",
    "    DF_2015_novo.loc[(DF_2015_novo.UF == 52), \"UF\"] = \"Goiás\"\n",
    "    DF_2015_novo.loc[(DF_2015_novo.UF == 53), \"UF\"] = \"Distrito Federal\"\n",
    "\n",
    "except:\"\"\n",
    "    \n",
    "DF_2015_novo.UF.value_counts()"
   ]
  },
  {
   "cell_type": "code",
   "execution_count": 18,
   "metadata": {},
   "outputs": [
    {
     "data": {
      "text/plain": [
       "0    Masculino\n",
       "1     Feminino\n",
       "2     Feminino\n",
       "3    Masculino\n",
       "4     Feminino\n",
       "Name: SEXO, dtype: object"
      ]
     },
     "execution_count": 18,
     "metadata": {},
     "output_type": "execute_result"
    }
   ],
   "source": [
    "try:\n",
    "    DF_2015_novo.loc[(DF_2015_novo.SEXO == 2), \"SEXO\"] = \"Masculino\"\n",
    "    DF_2015_novo.loc[(DF_2015_novo.SEXO == 4), \"SEXO\"] = \"Feminino\"\n",
    "    \n",
    "except:\"\"\n",
    "    \n",
    "DF_2015_novo.SEXO.head()"
   ]
  },
  {
   "cell_type": "code",
   "execution_count": 19,
   "metadata": {},
   "outputs": [
    {
     "data": {
      "text/plain": [
       "0     Parda\n",
       "1    Branca\n",
       "2     Parda\n",
       "3     Parda\n",
       "4     Parda\n",
       "Name: RAÇA, dtype: object"
      ]
     },
     "execution_count": 19,
     "metadata": {},
     "output_type": "execute_result"
    }
   ],
   "source": [
    "try:\n",
    "    DF_2015_novo.loc[(DF_2015_novo.RAÇA == 2), \"RAÇA\"] = \"Branca\"\n",
    "    DF_2015_novo.loc[(DF_2015_novo.RAÇA == 4), \"RAÇA\"] = \"Preta\"\n",
    "    DF_2015_novo.loc[(DF_2015_novo.RAÇA == 6), \"RAÇA\"] = \"Amarela\"\n",
    "    DF_2015_novo.loc[(DF_2015_novo.RAÇA == 8), \"RAÇA\"] = \"Parda\"\n",
    "    DF_2015_novo.loc[(DF_2015_novo.RAÇA == 0), \"RAÇA\"] = \"Indígena\"\n",
    "    DF_2015_novo.loc[(DF_2015_novo.RAÇA == 9), \"RAÇA\"] = \"Sem declaração\"\n",
    "    \n",
    "except:\"\"\n",
    "    \n",
    "DF_2015_novo.RAÇA.head()"
   ]
  },
  {
   "cell_type": "code",
   "execution_count": 20,
   "metadata": {},
   "outputs": [
    {
     "data": {
      "text/plain": [
       "0      Solteiro(a)\n",
       "1    Divorciado(a)\n",
       "2    Não Se Aplica\n",
       "3    Não Se Aplica\n",
       "4      Solteiro(a)\n",
       "Name: EST_CIV, dtype: object"
      ]
     },
     "execution_count": 20,
     "metadata": {},
     "output_type": "execute_result"
    }
   ],
   "source": [
    "try:\n",
    "    DF_2015_novo.loc[(DF_2015_novo.EST_CIV == 1), \"EST_CIV\"] = \"Casado(a)\"\n",
    "    DF_2015_novo.loc[(DF_2015_novo.EST_CIV == 3), \"EST_CIV\"] = \"Desquitado(a) ou Separado(a)\"\n",
    "    DF_2015_novo.loc[(DF_2015_novo.EST_CIV == 5), \"EST_CIV\"] = \"Divorciado(a)\"\n",
    "    DF_2015_novo.loc[(DF_2015_novo.EST_CIV == 7), \"EST_CIV\"] = \"Viúvo(a)\"\n",
    "    DF_2015_novo.loc[(DF_2015_novo.EST_CIV == 0), \"EST_CIV\"] = \"Solteiro(a)\"\n",
    "    DF_2015_novo.loc[(DF_2015_novo.EST_CIV.isnull() == True), \"EST_CIV\"] = \"Não Se Aplica\" \n",
    "    \n",
    "except:\"\"\n",
    "    \n",
    "    \n",
    "DF_2015_novo.EST_CIV.head()"
   ]
  },
  {
   "cell_type": "code",
   "execution_count": 21,
   "metadata": {},
   "outputs": [
    {
     "data": {
      "text/plain": [
       "0    Sim\n",
       "1    Sim\n",
       "2    Sim\n",
       "3    Sim\n",
       "4    Sim\n",
       "Name: LER_ESC, dtype: object"
      ]
     },
     "execution_count": 21,
     "metadata": {},
     "output_type": "execute_result"
    }
   ],
   "source": [
    "try:\n",
    "    DF_2015_novo.loc[(DF_2015_novo.LER_ESC == 1), \"LER_ESC\"] = \"Sim\"\n",
    "    DF_2015_novo.loc[(DF_2015_novo.LER_ESC == 3), \"LER_ESC\"] = \"Não\"\n",
    "    \n",
    "except:\"\"\n",
    "    \n",
    "    \n",
    "DF_2015_novo.LER_ESC.head()"
   ]
  },
  {
   "cell_type": "code",
   "execution_count": 22,
   "metadata": {},
   "outputs": [
    {
     "data": {
      "text/plain": [
       "0    Não Se Aplica\n",
       "1    Não Se Aplica\n",
       "2          Privado\n",
       "3    Não Se Aplica\n",
       "4          Privado\n",
       "Name: REDE_ENS, dtype: object"
      ]
     },
     "execution_count": 22,
     "metadata": {},
     "output_type": "execute_result"
    }
   ],
   "source": [
    "try:\n",
    "    DF_2015_novo.loc[(DF_2015_novo.REDE_ENS == 2), \"REDE_ENS\"] = \"Público\"\n",
    "    DF_2015_novo.loc[(DF_2015_novo.REDE_ENS == 4), \"REDE_ENS\"] = \"Privado\"\n",
    "    DF_2015_novo.loc[(DF_2015_novo.REDE_ENS.isnull() == True), \"REDE_ENS\"] = \"Não Se Aplica\"     \n",
    "except:\"\"\n",
    "    \n",
    "    \n",
    "DF_2015_novo.REDE_ENS.head()"
   ]
  },
  {
   "cell_type": "code",
   "execution_count": 23,
   "metadata": {},
   "outputs": [
    {
     "data": {
      "text/plain": [
       "0    Sim\n",
       "1    Sim\n",
       "2    Sim\n",
       "3    Sim\n",
       "4    Sim\n",
       "Name: MOBILE, dtype: object"
      ]
     },
     "execution_count": 23,
     "metadata": {},
     "output_type": "execute_result"
    }
   ],
   "source": [
    "try:\n",
    "    DF_2015_novo.loc[(DF_2015_novo.MOBILE == 1), \"MOBILE\"] = \"Sim\"\n",
    "    DF_2015_novo.loc[(DF_2015_novo.MOBILE == 3), \"MOBILE\"] = \"Não\"\n",
    "    DF_2015_novo.loc[(DF_2015_novo.MOBILE.isnull() == True), \"MOBILE\"] = \"Não Se Aplica\"  \n",
    "    \n",
    "except:\"\"\n",
    "    \n",
    "    \n",
    "DF_2015_novo.MOBILE.head()"
   ]
  },
  {
   "cell_type": "code",
   "execution_count": 24,
   "metadata": {},
   "outputs": [
    {
     "data": {
      "text/plain": [
       "0    Jovem Adulto\n",
       "1    Jovem Adulto\n",
       "2              35\n",
       "3              34\n",
       "4              11\n",
       "Name: IDADE, dtype: object"
      ]
     },
     "execution_count": 24,
     "metadata": {},
     "output_type": "execute_result"
    }
   ],
   "source": [
    "try:\n",
    "#    DF_2015_novo.loc[(DF_2015_novo.IDADE >= 0)&(DF_2015_novo.IDADE <= 13), \"IDADE\"] = \"Criança\"\n",
    "#    DF_2015_novo.loc[(DF_2015_novo.IDADE >= 14)&(DF_2015_novo.IDADE <= 17), \"IDADE\"] = \"Adolescente\"\n",
    "    DF_2015_novo.loc[(DF_2015_novo.IDADE >= 18 )&(DF_2015_novo.IDADE <= 30), \"IDADE\"] = \"Jovem Adulto\"\n",
    "#    DF_2015_novo.loc[(DF_2015_novo.IDADE >= 31)&(DF_2015_novo.IDADE <=50), \"IDADE\"] = \"Adulto\"\n",
    "#    DF_2015_novo.loc[(DF_2015_novo.IDADE >= 51)&(DF_2015_novo.IDADE <= 120), \"IDADE\"] = \"Idoso\"\n",
    "#    DF_2015_novo.loc[(DF_2015_novo.IDADE.isnull() == True), \"IDADE\"] <= \"Não Se Aplica\"  \n",
    "except:\"\"\n",
    "\n",
    "    \n",
    "DF_2015_novo.IDADE.head()"
   ]
  },
  {
   "cell_type": "code",
   "execution_count": 25,
   "metadata": {},
   "outputs": [
    {
     "data": {
      "text/plain": [
       "0                  800\n",
       "1    Baixa Classe Alta\n",
       "2                  880\n",
       "3                 3000\n",
       "4                  NaN\n",
       "Name: RENDA, dtype: object"
      ]
     },
     "execution_count": 25,
     "metadata": {},
     "output_type": "execute_result"
    }
   ],
   "source": [
    "\n",
    "try:\n",
    "#     DF_2015_novo.loc[(DF_2015_novo.RENDA >= 0)&(DF_2015_novo.RENDA <= 81), \"RENDA\"] = \"Extrema Pobreza\"\n",
    "#     DF_2015_novo.loc[(DF_2015_novo.RENDA == 82)&(DF_2015_novo.RENDA == 162), \"RENDA\"] = \"Pobre\"\n",
    "#     DF_2015_novo.loc[(DF_2015_novo.RENDA == 163 )&(DF_2015_novo.RENDA == 291), \"RENDA\"] = \"Vulnerável\"\n",
    "#     DF_2015_novo.loc[(DF_2015_novo.RENDA == 292)&(DF_2015_novo.RENDA == 441), \"RENDA\"] = \"Baixa Classe Média\"\n",
    "#     DF_2015_novo.loc[(DF_2015_novo.RENDA == 442)&(DF_2015_novo.RENDA == 641), \"RENDA\"] = \"Classe Média\"\n",
    "#     DF_2015_novo.loc[(DF_2015_novo.RENDA == 642)&(DF_2015_novo.RENDA == 1019), \"RENDA\"] = \"Alta Classe Média\"\n",
    "     DF_2015_novo.loc[(DF_2015_novo.RENDA >= 1020)&(DF_2015_novo.RENDA <= 2480), \"RENDA\"] = \"Baixa Classe Alta\"\n",
    "#     DF_2015_novo.loc[(DF_2015_novo.RENDA == 2482)&(DF_2015_novo.RENDA == 800000000), \"RENDA\"] = \"Classe Alta\"\n",
    "     DF_2015_novo.loc[(DF_2015_novo.RENDA == 1e+12), \"RENDA\"] = \"Não Declarado\"\n",
    "#     DF_2015_novo.loc[(DF_2015_novo.RENDA.isnull() == True), \"RENDA\"] = \"Não Se Aplica\"  \n",
    "except:\"\"\n",
    "\n",
    "    \n",
    "DF_2015_novo.RENDA.head()"
   ]
  },
  {
   "cell_type": "markdown",
   "metadata": {},
   "source": [
    "**(Todas as classes, assim como todas as idades não foram classificadas porque não usariamos para a análise)**"
   ]
  },
  {
   "cell_type": "code",
   "execution_count": 26,
   "metadata": {},
   "outputs": [
    {
     "data": {
      "text/html": [
       "<div>\n",
       "<style scoped>\n",
       "    .dataframe tbody tr th:only-of-type {\n",
       "        vertical-align: middle;\n",
       "    }\n",
       "\n",
       "    .dataframe tbody tr th {\n",
       "        vertical-align: top;\n",
       "    }\n",
       "\n",
       "    .dataframe thead th {\n",
       "        text-align: right;\n",
       "    }\n",
       "</style>\n",
       "<table border=\"1\" class=\"dataframe\">\n",
       "  <thead>\n",
       "    <tr style=\"text-align: right;\">\n",
       "      <th></th>\n",
       "      <th>UF</th>\n",
       "      <th>SEXO</th>\n",
       "      <th>IDADE</th>\n",
       "      <th>RAÇA</th>\n",
       "      <th>EST_CIV</th>\n",
       "      <th>LER_ESC</th>\n",
       "      <th>REDE_ENS</th>\n",
       "      <th>MOBILE</th>\n",
       "      <th>RENDA</th>\n",
       "    </tr>\n",
       "  </thead>\n",
       "  <tbody>\n",
       "    <tr>\n",
       "      <th>0</th>\n",
       "      <td>Rondonia</td>\n",
       "      <td>Masculino</td>\n",
       "      <td>Jovem Adulto</td>\n",
       "      <td>Parda</td>\n",
       "      <td>Solteiro(a)</td>\n",
       "      <td>Sim</td>\n",
       "      <td>Não Se Aplica</td>\n",
       "      <td>Sim</td>\n",
       "      <td>800</td>\n",
       "    </tr>\n",
       "    <tr>\n",
       "      <th>1</th>\n",
       "      <td>Rondonia</td>\n",
       "      <td>Feminino</td>\n",
       "      <td>Jovem Adulto</td>\n",
       "      <td>Branca</td>\n",
       "      <td>Divorciado(a)</td>\n",
       "      <td>Sim</td>\n",
       "      <td>Não Se Aplica</td>\n",
       "      <td>Sim</td>\n",
       "      <td>Baixa Classe Alta</td>\n",
       "    </tr>\n",
       "    <tr>\n",
       "      <th>2</th>\n",
       "      <td>Rondonia</td>\n",
       "      <td>Feminino</td>\n",
       "      <td>35</td>\n",
       "      <td>Parda</td>\n",
       "      <td>Não Se Aplica</td>\n",
       "      <td>Sim</td>\n",
       "      <td>Privado</td>\n",
       "      <td>Sim</td>\n",
       "      <td>880</td>\n",
       "    </tr>\n",
       "    <tr>\n",
       "      <th>3</th>\n",
       "      <td>Rondonia</td>\n",
       "      <td>Masculino</td>\n",
       "      <td>34</td>\n",
       "      <td>Parda</td>\n",
       "      <td>Não Se Aplica</td>\n",
       "      <td>Sim</td>\n",
       "      <td>Não Se Aplica</td>\n",
       "      <td>Sim</td>\n",
       "      <td>3000</td>\n",
       "    </tr>\n",
       "    <tr>\n",
       "      <th>4</th>\n",
       "      <td>Rondonia</td>\n",
       "      <td>Feminino</td>\n",
       "      <td>11</td>\n",
       "      <td>Parda</td>\n",
       "      <td>Solteiro(a)</td>\n",
       "      <td>Sim</td>\n",
       "      <td>Privado</td>\n",
       "      <td>Sim</td>\n",
       "      <td>NaN</td>\n",
       "    </tr>\n",
       "  </tbody>\n",
       "</table>\n",
       "</div>"
      ],
      "text/plain": [
       "         UF       SEXO         IDADE    RAÇA        EST_CIV LER_ESC  \\\n",
       "0  Rondonia  Masculino  Jovem Adulto   Parda    Solteiro(a)     Sim   \n",
       "1  Rondonia   Feminino  Jovem Adulto  Branca  Divorciado(a)     Sim   \n",
       "2  Rondonia   Feminino            35   Parda  Não Se Aplica     Sim   \n",
       "3  Rondonia  Masculino            34   Parda  Não Se Aplica     Sim   \n",
       "4  Rondonia   Feminino            11   Parda    Solteiro(a)     Sim   \n",
       "\n",
       "        REDE_ENS MOBILE              RENDA  \n",
       "0  Não Se Aplica    Sim                800  \n",
       "1  Não Se Aplica    Sim  Baixa Classe Alta  \n",
       "2        Privado    Sim                880  \n",
       "3  Não Se Aplica    Sim               3000  \n",
       "4        Privado    Sim                NaN  "
      ]
     },
     "execution_count": 26,
     "metadata": {},
     "output_type": "execute_result"
    }
   ],
   "source": [
    "DF_2015_novo.head()"
   ]
  },
  {
   "cell_type": "markdown",
   "metadata": {},
   "source": [
    "___\n",
    "## Análise e Resultados\n",
    "\n",
    "Após criarmos os data frames, podemos analisar os dados separados e ver os resultados, para que assim, ao final de tudo, conseguirmos tirar alguma conclusão sólida"
   ]
  },
  {
   "cell_type": "markdown",
   "metadata": {},
   "source": [
    "### Pergunta Norteadora:\n",
    " \n",
    " O numero e perfil de pessoas que são de **baixa classe alta** aumentou por conta da tecnologia/internete móvel? E o número de homens que ganham mais que mulheres mudou? E o que influencia nessa mudança, caso exista. \n",
    " \n",
    " Os dados mudam ao analisarmos os jovens adultos?"
   ]
  },
  {
   "cell_type": "code",
   "execution_count": 27,
   "metadata": {},
   "outputs": [
    {
     "data": {
      "text/plain": [
       "Feminino     51.5\n",
       "Masculino    48.5\n",
       "Name: SEXO, dtype: float64"
      ]
     },
     "execution_count": 27,
     "metadata": {},
     "output_type": "execute_result"
    }
   ],
   "source": [
    "comparacao_sexo = (DF_2015_novo[\"SEXO\"].value_counts(normalize='index')*100).round(decimals=1)\n",
    "comparacao_sexo"
   ]
  },
  {
   "cell_type": "markdown",
   "metadata": {},
   "source": [
    "Segundo os dados a cima, pode-se observar que existem mais mulheres do que homens na pesquisa."
   ]
  },
  {
   "cell_type": "code",
   "execution_count": 28,
   "metadata": {},
   "outputs": [
    {
     "data": {
      "text/html": [
       "<div>\n",
       "<style scoped>\n",
       "    .dataframe tbody tr th:only-of-type {\n",
       "        vertical-align: middle;\n",
       "    }\n",
       "\n",
       "    .dataframe tbody tr th {\n",
       "        vertical-align: top;\n",
       "    }\n",
       "\n",
       "    .dataframe thead th {\n",
       "        text-align: right;\n",
       "    }\n",
       "</style>\n",
       "<table border=\"1\" class=\"dataframe\">\n",
       "  <thead>\n",
       "    <tr style=\"text-align: right;\">\n",
       "      <th>RENDA</th>\n",
       "      <th>Baixa Classe Alta</th>\n",
       "    </tr>\n",
       "    <tr>\n",
       "      <th>SEXO</th>\n",
       "      <th></th>\n",
       "    </tr>\n",
       "  </thead>\n",
       "  <tbody>\n",
       "    <tr>\n",
       "      <th>Feminino</th>\n",
       "      <td>10531</td>\n",
       "    </tr>\n",
       "    <tr>\n",
       "      <th>Masculino</th>\n",
       "      <td>22986</td>\n",
       "    </tr>\n",
       "  </tbody>\n",
       "</table>\n",
       "</div>"
      ],
      "text/plain": [
       "RENDA      Baixa Classe Alta\n",
       "SEXO                        \n",
       "Feminino               10531\n",
       "Masculino              22986"
      ]
     },
     "execution_count": 28,
     "metadata": {},
     "output_type": "execute_result"
    }
   ],
   "source": [
    "#Cruzando os dados sobre sexo e renda do ano de 2011\n",
    "\n",
    "sexo_din_2011 = pd.crosstab(DF_2011_novo[\"SEXO\"],DF_2011_novo[\"RENDA\"].loc[DF_2011_novo[\"RENDA\"]==\"Baixa Classe Alta\"], rownames=[\"SEXO\"], colnames=[\"RENDA\"] )\n",
    "sexo_din_2011"
   ]
  },
  {
   "cell_type": "code",
   "execution_count": 29,
   "metadata": {},
   "outputs": [
    {
     "data": {
      "text/html": [
       "<div>\n",
       "<style scoped>\n",
       "    .dataframe tbody tr th:only-of-type {\n",
       "        vertical-align: middle;\n",
       "    }\n",
       "\n",
       "    .dataframe tbody tr th {\n",
       "        vertical-align: top;\n",
       "    }\n",
       "\n",
       "    .dataframe thead th {\n",
       "        text-align: right;\n",
       "    }\n",
       "</style>\n",
       "<table border=\"1\" class=\"dataframe\">\n",
       "  <thead>\n",
       "    <tr style=\"text-align: right;\">\n",
       "      <th>RENDA</th>\n",
       "      <th>Baixa Classe Alta</th>\n",
       "    </tr>\n",
       "    <tr>\n",
       "      <th>SEXO</th>\n",
       "      <th></th>\n",
       "    </tr>\n",
       "  </thead>\n",
       "  <tbody>\n",
       "    <tr>\n",
       "      <th>Feminino</th>\n",
       "      <td>19141</td>\n",
       "    </tr>\n",
       "    <tr>\n",
       "      <th>Masculino</th>\n",
       "      <td>34730</td>\n",
       "    </tr>\n",
       "  </tbody>\n",
       "</table>\n",
       "</div>"
      ],
      "text/plain": [
       "RENDA      Baixa Classe Alta\n",
       "SEXO                        \n",
       "Feminino               19141\n",
       "Masculino              34730"
      ]
     },
     "execution_count": 29,
     "metadata": {},
     "output_type": "execute_result"
    }
   ],
   "source": [
    "#Cruzando os dados sobre sexo e renda do ano de 2011\n",
    "\n",
    "sexo_din_2015 = pd.crosstab(DF_2015_novo[\"SEXO\"],DF_2015_novo[\"RENDA\"].loc[DF_2015_novo[\"RENDA\"]==\"Baixa Classe Alta\"], rownames=[\"SEXO\"], colnames=[\"RENDA\"] )\n",
    "sexo_din_2015"
   ]
  },
  {
   "cell_type": "code",
   "execution_count": 30,
   "metadata": {
    "scrolled": true
   },
   "outputs": [
    {
     "data": {
      "text/plain": [
       "2.1826986990789097"
      ]
     },
     "execution_count": 30,
     "metadata": {},
     "output_type": "execute_result"
    }
   ],
   "source": [
    "#Comparação da renda entre os dois sexos de forma proporcional\n",
    "\n",
    "sexo_din_2011['Baixa Classe Alta'][1]/sexo_din_2011['Baixa Classe Alta'][0]"
   ]
  },
  {
   "cell_type": "code",
   "execution_count": 31,
   "metadata": {
    "scrolled": true
   },
   "outputs": [
    {
     "data": {
      "text/plain": [
       "1.8144297581108615"
      ]
     },
     "execution_count": 31,
     "metadata": {},
     "output_type": "execute_result"
    }
   ],
   "source": [
    "#Comparando da renda entre os dois sexos de forma proporcional\n",
    "\n",
    "sexo_din_2015['Baixa Classe Alta'][1]/sexo_din_2015['Baixa Classe Alta'][0]"
   ]
  },
  {
   "cell_type": "markdown",
   "metadata": {},
   "source": [
    "##### Taxa de homens de Baixa Classe Alta por mulheres de Baixa Classe Alta\n",
    "\n",
    "."
   ]
  },
  {
   "cell_type": "code",
   "execution_count": 32,
   "metadata": {},
   "outputs": [
    {
     "data": {
      "text/html": [
       "<div>\n",
       "<style scoped>\n",
       "    .dataframe tbody tr th:only-of-type {\n",
       "        vertical-align: middle;\n",
       "    }\n",
       "\n",
       "    .dataframe tbody tr th {\n",
       "        vertical-align: top;\n",
       "    }\n",
       "\n",
       "    .dataframe thead th {\n",
       "        text-align: right;\n",
       "    }\n",
       "</style>\n",
       "<table border=\"1\" class=\"dataframe\">\n",
       "  <thead>\n",
       "    <tr style=\"text-align: right;\">\n",
       "      <th>RENDA</th>\n",
       "      <th>Baixa Classe Alta</th>\n",
       "    </tr>\n",
       "    <tr>\n",
       "      <th>RAÇA</th>\n",
       "      <th></th>\n",
       "    </tr>\n",
       "  </thead>\n",
       "  <tbody>\n",
       "    <tr>\n",
       "      <th>Amarela</th>\n",
       "      <td>0.575827</td>\n",
       "    </tr>\n",
       "    <tr>\n",
       "      <th>Branca</th>\n",
       "      <td>54.745353</td>\n",
       "    </tr>\n",
       "    <tr>\n",
       "      <th>Indígena</th>\n",
       "      <td>0.381896</td>\n",
       "    </tr>\n",
       "    <tr>\n",
       "      <th>Parda</th>\n",
       "      <td>36.068264</td>\n",
       "    </tr>\n",
       "    <tr>\n",
       "      <th>Preta</th>\n",
       "      <td>8.228660</td>\n",
       "    </tr>\n",
       "  </tbody>\n",
       "</table>\n",
       "</div>"
      ],
      "text/plain": [
       "RENDA     Baixa Classe Alta\n",
       "RAÇA                       \n",
       "Amarela            0.575827\n",
       "Branca            54.745353\n",
       "Indígena           0.381896\n",
       "Parda             36.068264\n",
       "Preta              8.228660"
      ]
     },
     "execution_count": 32,
     "metadata": {},
     "output_type": "execute_result"
    }
   ],
   "source": [
    "raca_din_2011 = pd.crosstab(DF_2011_novo[\"RAÇA\"],DF_2011_novo[\"RENDA\"].loc[DF_2011_novo[\"RENDA\"]==\"Baixa Classe Alta\"], rownames=[\"RAÇA\"], colnames=[\"RENDA\"] )\n",
    "soma_tabela = raca_din_2011.sum().sum()\n",
    "raca_din_2011*100/soma_tabela"
   ]
  },
  {
   "cell_type": "code",
   "execution_count": 33,
   "metadata": {},
   "outputs": [
    {
     "data": {
      "text/html": [
       "<div>\n",
       "<style scoped>\n",
       "    .dataframe tbody tr th:only-of-type {\n",
       "        vertical-align: middle;\n",
       "    }\n",
       "\n",
       "    .dataframe tbody tr th {\n",
       "        vertical-align: top;\n",
       "    }\n",
       "\n",
       "    .dataframe thead th {\n",
       "        text-align: right;\n",
       "    }\n",
       "</style>\n",
       "<table border=\"1\" class=\"dataframe\">\n",
       "  <thead>\n",
       "    <tr style=\"text-align: right;\">\n",
       "      <th>RENDA</th>\n",
       "      <th>Baixa Classe Alta</th>\n",
       "    </tr>\n",
       "    <tr>\n",
       "      <th>RAÇA</th>\n",
       "      <th></th>\n",
       "    </tr>\n",
       "  </thead>\n",
       "  <tbody>\n",
       "    <tr>\n",
       "      <th>Amarela</th>\n",
       "      <td>0.376826</td>\n",
       "    </tr>\n",
       "    <tr>\n",
       "      <th>Branca</th>\n",
       "      <td>47.327876</td>\n",
       "    </tr>\n",
       "    <tr>\n",
       "      <th>Indígena</th>\n",
       "      <td>0.297006</td>\n",
       "    </tr>\n",
       "    <tr>\n",
       "      <th>Parda</th>\n",
       "      <td>41.762729</td>\n",
       "    </tr>\n",
       "    <tr>\n",
       "      <th>Preta</th>\n",
       "      <td>10.235563</td>\n",
       "    </tr>\n",
       "  </tbody>\n",
       "</table>\n",
       "</div>"
      ],
      "text/plain": [
       "RENDA     Baixa Classe Alta\n",
       "RAÇA                       \n",
       "Amarela            0.376826\n",
       "Branca            47.327876\n",
       "Indígena           0.297006\n",
       "Parda             41.762729\n",
       "Preta             10.235563"
      ]
     },
     "execution_count": 33,
     "metadata": {},
     "output_type": "execute_result"
    }
   ],
   "source": [
    "raca_din_2015 = pd.crosstab(DF_2015_novo[\"RAÇA\"],DF_2015_novo[\"RENDA\"].loc[DF_2015_novo[\"RENDA\"]==\"Baixa Classe Alta\"], rownames=[\"RAÇA\"], colnames=[\"RENDA\"] )\n",
    "soma_tabela1 = raca_din_2015.sum().sum()\n",
    "raca_din_2015*100/soma_tabela1"
   ]
  },
  {
   "cell_type": "markdown",
   "metadata": {},
   "source": [
    "##### Comparação entre porcentagens de pessoas de cada raça que pertencem à Baixa Classe Alta\n",
    "\n",
    "."
   ]
  },
  {
   "cell_type": "code",
   "execution_count": 34,
   "metadata": {},
   "outputs": [
    {
     "data": {
      "text/html": [
       "<div>\n",
       "<style scoped>\n",
       "    .dataframe tbody tr th:only-of-type {\n",
       "        vertical-align: middle;\n",
       "    }\n",
       "\n",
       "    .dataframe tbody tr th {\n",
       "        vertical-align: top;\n",
       "    }\n",
       "\n",
       "    .dataframe thead th {\n",
       "        text-align: right;\n",
       "    }\n",
       "</style>\n",
       "<table border=\"1\" class=\"dataframe\">\n",
       "  <thead>\n",
       "    <tr style=\"text-align: right;\">\n",
       "      <th>REDE DE ENSINO</th>\n",
       "      <th>Não Se Aplica</th>\n",
       "      <th>Privado</th>\n",
       "      <th>Público</th>\n",
       "    </tr>\n",
       "    <tr>\n",
       "      <th>RAÇA</th>\n",
       "      <th></th>\n",
       "      <th></th>\n",
       "      <th></th>\n",
       "    </tr>\n",
       "  </thead>\n",
       "  <tbody>\n",
       "    <tr>\n",
       "      <th>Amarela</th>\n",
       "      <td>180</td>\n",
       "      <td>8</td>\n",
       "      <td>5</td>\n",
       "    </tr>\n",
       "    <tr>\n",
       "      <th>Branca</th>\n",
       "      <td>16721</td>\n",
       "      <td>1196</td>\n",
       "      <td>432</td>\n",
       "    </tr>\n",
       "    <tr>\n",
       "      <th>Indígena</th>\n",
       "      <td>116</td>\n",
       "      <td>4</td>\n",
       "      <td>8</td>\n",
       "    </tr>\n",
       "    <tr>\n",
       "      <th>Parda</th>\n",
       "      <td>11056</td>\n",
       "      <td>706</td>\n",
       "      <td>327</td>\n",
       "    </tr>\n",
       "    <tr>\n",
       "      <th>Preta</th>\n",
       "      <td>2529</td>\n",
       "      <td>159</td>\n",
       "      <td>70</td>\n",
       "    </tr>\n",
       "  </tbody>\n",
       "</table>\n",
       "</div>"
      ],
      "text/plain": [
       "REDE DE ENSINO  Não Se Aplica  Privado  Público\n",
       "RAÇA                                           \n",
       "Amarela                   180        8        5\n",
       "Branca                  16721     1196      432\n",
       "Indígena                  116        4        8\n",
       "Parda                   11056      706      327\n",
       "Preta                    2529      159       70"
      ]
     },
     "execution_count": 34,
     "metadata": {},
     "output_type": "execute_result"
    }
   ],
   "source": [
    "raca_esc_2011 = pd.crosstab(DF_2011_novo[\"RAÇA\"],DF_2011_novo[\"REDE_ENS\"].loc[DF_2011_novo[\"RENDA\"]==\"Baixa Classe Alta\"],colnames=[\"REDE DE ENSINO\"], rownames=[\"RAÇA\"] )\n",
    "raca_esc_2011"
   ]
  },
  {
   "cell_type": "code",
   "execution_count": 35,
   "metadata": {},
   "outputs": [
    {
     "data": {
      "text/html": [
       "<div>\n",
       "<style scoped>\n",
       "    .dataframe tbody tr th:only-of-type {\n",
       "        vertical-align: middle;\n",
       "    }\n",
       "\n",
       "    .dataframe tbody tr th {\n",
       "        vertical-align: top;\n",
       "    }\n",
       "\n",
       "    .dataframe thead th {\n",
       "        text-align: right;\n",
       "    }\n",
       "</style>\n",
       "<table border=\"1\" class=\"dataframe\">\n",
       "  <thead>\n",
       "    <tr style=\"text-align: right;\">\n",
       "      <th>REDE DE ENSINO</th>\n",
       "      <th>Não Se Aplica</th>\n",
       "      <th>Privado</th>\n",
       "      <th>Público</th>\n",
       "    </tr>\n",
       "    <tr>\n",
       "      <th>RAÇA</th>\n",
       "      <th></th>\n",
       "      <th></th>\n",
       "      <th></th>\n",
       "    </tr>\n",
       "  </thead>\n",
       "  <tbody>\n",
       "    <tr>\n",
       "      <th>Amarela</th>\n",
       "      <td>188</td>\n",
       "      <td>12</td>\n",
       "      <td>3</td>\n",
       "    </tr>\n",
       "    <tr>\n",
       "      <th>Branca</th>\n",
       "      <td>23438</td>\n",
       "      <td>1550</td>\n",
       "      <td>508</td>\n",
       "    </tr>\n",
       "    <tr>\n",
       "      <th>Indígena</th>\n",
       "      <td>149</td>\n",
       "      <td>4</td>\n",
       "      <td>7</td>\n",
       "    </tr>\n",
       "    <tr>\n",
       "      <th>Parda</th>\n",
       "      <td>20956</td>\n",
       "      <td>1062</td>\n",
       "      <td>480</td>\n",
       "    </tr>\n",
       "    <tr>\n",
       "      <th>Preta</th>\n",
       "      <td>5154</td>\n",
       "      <td>247</td>\n",
       "      <td>113</td>\n",
       "    </tr>\n",
       "  </tbody>\n",
       "</table>\n",
       "</div>"
      ],
      "text/plain": [
       "REDE DE ENSINO  Não Se Aplica  Privado  Público\n",
       "RAÇA                                           \n",
       "Amarela                   188       12        3\n",
       "Branca                  23438     1550      508\n",
       "Indígena                  149        4        7\n",
       "Parda                   20956     1062      480\n",
       "Preta                    5154      247      113"
      ]
     },
     "execution_count": 35,
     "metadata": {},
     "output_type": "execute_result"
    }
   ],
   "source": [
    "raca_esc_2015 = pd.crosstab(DF_2015_novo[\"RAÇA\"],DF_2015_novo[\"REDE_ENS\"].loc[DF_2015_novo[\"RENDA\"]==\"Baixa Classe Alta\"], colnames=[\"REDE DE ENSINO\"], rownames=[\"RAÇA\"] )\n",
    "raca_esc_2015"
   ]
  },
  {
   "cell_type": "markdown",
   "metadata": {},
   "source": [
    "##### Comparação entre a rede de ensino frequentada e a raça das pessoas\n",
    "\n",
    "."
   ]
  },
  {
   "cell_type": "code",
   "execution_count": 36,
   "metadata": {},
   "outputs": [
    {
     "data": {
      "image/png": "[encoded data removed]",
      "text/plain": [
       "<Figure size 792x360 with 2 Axes>"
      ]
     },
     "metadata": {},
     "output_type": "display_data"
    }
   ],
   "source": [
    "fig = plt.figure(figsize=(11,5))\n",
    "\n",
    "y_ticks = [10*x for x in range(9)]\n",
    "\n",
    "plt.subplot(131)\n",
    "ut1 = (DF_2011_novo['MOBILE'].value_counts(sort=False, normalize=True)*100).round(decimals=1)\n",
    "ut1.plot(kind='bar', title = \"USAM TELEFONE MOVEL - 2011\", yticks=y_ticks)\n",
    "plt.ylabel(\"Pessoas (%)\")\n",
    "\n",
    "plt.subplot(132)\n",
    "ut2 = (DF_2015_novo['MOBILE'].value_counts(sort=False, normalize=True)*100).round(decimals=1)\n",
    "ut2.plot(kind='bar', title = \"USAM TELEFONE MOVEL - 2015\", yticks=y_ticks)\n",
    "\n",
    "plt.tight_layout()\n",
    "plt.show()"
   ]
  },
  {
   "cell_type": "markdown",
   "metadata": {},
   "source": [
    "## Somente Jovens adultos:"
   ]
  },
  {
   "cell_type": "code",
   "execution_count": 37,
   "metadata": {},
   "outputs": [],
   "source": [
    "DF_JA_2011 = DF_2011_novo.loc[(DF_2011_novo.IDADE == \"Jovem Adulto\")]"
   ]
  },
  {
   "cell_type": "code",
   "execution_count": 38,
   "metadata": {},
   "outputs": [],
   "source": [
    "DF_JA_2015 = DF_2015_novo.loc[(DF_2015_novo.IDADE == \"Jovem Adulto\")]"
   ]
  },
  {
   "cell_type": "code",
   "execution_count": 39,
   "metadata": {},
   "outputs": [
    {
     "data": {
      "text/html": [
       "<div>\n",
       "<style scoped>\n",
       "    .dataframe tbody tr th:only-of-type {\n",
       "        vertical-align: middle;\n",
       "    }\n",
       "\n",
       "    .dataframe tbody tr th {\n",
       "        vertical-align: top;\n",
       "    }\n",
       "\n",
       "    .dataframe thead th {\n",
       "        text-align: right;\n",
       "    }\n",
       "</style>\n",
       "<table border=\"1\" class=\"dataframe\">\n",
       "  <thead>\n",
       "    <tr style=\"text-align: right;\">\n",
       "      <th>RENDA</th>\n",
       "      <th>Baixa Classe Alta</th>\n",
       "    </tr>\n",
       "    <tr>\n",
       "      <th>SEXO</th>\n",
       "      <th></th>\n",
       "    </tr>\n",
       "  </thead>\n",
       "  <tbody>\n",
       "    <tr>\n",
       "      <th>Feminino</th>\n",
       "      <td>2953</td>\n",
       "    </tr>\n",
       "    <tr>\n",
       "      <th>Masculino</th>\n",
       "      <td>6356</td>\n",
       "    </tr>\n",
       "  </tbody>\n",
       "</table>\n",
       "</div>"
      ],
      "text/plain": [
       "RENDA      Baixa Classe Alta\n",
       "SEXO                        \n",
       "Feminino                2953\n",
       "Masculino               6356"
      ]
     },
     "execution_count": 39,
     "metadata": {},
     "output_type": "execute_result"
    }
   ],
   "source": [
    "DF_JA_2011_CT = pd.crosstab(DF_JA_2011[\"SEXO\"],DF_JA_2011[\"RENDA\"].loc[DF_JA_2011[\"RENDA\"]==\"Baixa Classe Alta\"], rownames=[\"SEXO\"], colnames=[\"RENDA\"] )\n",
    "DF_JA_2011_CT"
   ]
  },
  {
   "cell_type": "code",
   "execution_count": 40,
   "metadata": {},
   "outputs": [
    {
     "data": {
      "text/html": [
       "<div>\n",
       "<style scoped>\n",
       "    .dataframe tbody tr th:only-of-type {\n",
       "        vertical-align: middle;\n",
       "    }\n",
       "\n",
       "    .dataframe tbody tr th {\n",
       "        vertical-align: top;\n",
       "    }\n",
       "\n",
       "    .dataframe thead th {\n",
       "        text-align: right;\n",
       "    }\n",
       "</style>\n",
       "<table border=\"1\" class=\"dataframe\">\n",
       "  <thead>\n",
       "    <tr style=\"text-align: right;\">\n",
       "      <th>RENDA</th>\n",
       "      <th>Baixa Classe Alta</th>\n",
       "    </tr>\n",
       "    <tr>\n",
       "      <th>SEXO</th>\n",
       "      <th></th>\n",
       "    </tr>\n",
       "  </thead>\n",
       "  <tbody>\n",
       "    <tr>\n",
       "      <th>Feminino</th>\n",
       "      <td>5371</td>\n",
       "    </tr>\n",
       "    <tr>\n",
       "      <th>Masculino</th>\n",
       "      <td>10012</td>\n",
       "    </tr>\n",
       "  </tbody>\n",
       "</table>\n",
       "</div>"
      ],
      "text/plain": [
       "RENDA      Baixa Classe Alta\n",
       "SEXO                        \n",
       "Feminino                5371\n",
       "Masculino              10012"
      ]
     },
     "execution_count": 40,
     "metadata": {},
     "output_type": "execute_result"
    }
   ],
   "source": [
    "DF_JA_2015_CT = pd.crosstab(DF_JA_2015[\"SEXO\"],DF_JA_2015[\"RENDA\"].loc[DF_JA_2015[\"RENDA\"]==\"Baixa Classe Alta\"], rownames=[\"SEXO\"], colnames=[\"RENDA\"] )\n",
    "DF_JA_2015_CT"
   ]
  },
  {
   "cell_type": "code",
   "execution_count": 41,
   "metadata": {},
   "outputs": [
    {
     "data": {
      "text/plain": [
       "2.1523874026413816"
      ]
     },
     "execution_count": 41,
     "metadata": {},
     "output_type": "execute_result"
    }
   ],
   "source": [
    "DF_JA_2011_CT['Baixa Classe Alta'][1]/DF_JA_2011_CT['Baixa Classe Alta'][0]"
   ]
  },
  {
   "cell_type": "code",
   "execution_count": 42,
   "metadata": {},
   "outputs": [
    {
     "data": {
      "text/plain": [
       "1.8640849003909887"
      ]
     },
     "execution_count": 42,
     "metadata": {},
     "output_type": "execute_result"
    }
   ],
   "source": [
    "DF_JA_2015_CT['Baixa Classe Alta'][1]/DF_JA_2015_CT['Baixa Classe Alta'][0]"
   ]
  },
  {
   "cell_type": "markdown",
   "metadata": {},
   "source": [
    "Taxa de jovens adultos de Baixa Classe Alta por jovens adultas de Baixa Classe Alta"
   ]
  },
  {
   "cell_type": "code",
   "execution_count": 43,
   "metadata": {},
   "outputs": [
    {
     "data": {
      "text/html": [
       "<div>\n",
       "<style scoped>\n",
       "    .dataframe tbody tr th:only-of-type {\n",
       "        vertical-align: middle;\n",
       "    }\n",
       "\n",
       "    .dataframe tbody tr th {\n",
       "        vertical-align: top;\n",
       "    }\n",
       "\n",
       "    .dataframe thead th {\n",
       "        text-align: right;\n",
       "    }\n",
       "</style>\n",
       "<table border=\"1\" class=\"dataframe\">\n",
       "  <thead>\n",
       "    <tr style=\"text-align: right;\">\n",
       "      <th>RENDA</th>\n",
       "      <th>Baixa Classe Alta</th>\n",
       "    </tr>\n",
       "    <tr>\n",
       "      <th>RAÇA</th>\n",
       "      <th></th>\n",
       "    </tr>\n",
       "  </thead>\n",
       "  <tbody>\n",
       "    <tr>\n",
       "      <th>Amarela</th>\n",
       "      <td>0.666022</td>\n",
       "    </tr>\n",
       "    <tr>\n",
       "      <th>Branca</th>\n",
       "      <td>55.816951</td>\n",
       "    </tr>\n",
       "    <tr>\n",
       "      <th>Indígena</th>\n",
       "      <td>0.322269</td>\n",
       "    </tr>\n",
       "    <tr>\n",
       "      <th>Parda</th>\n",
       "      <td>35.342142</td>\n",
       "    </tr>\n",
       "    <tr>\n",
       "      <th>Preta</th>\n",
       "      <td>7.852616</td>\n",
       "    </tr>\n",
       "  </tbody>\n",
       "</table>\n",
       "</div>"
      ],
      "text/plain": [
       "RENDA     Baixa Classe Alta\n",
       "RAÇA                       \n",
       "Amarela            0.666022\n",
       "Branca            55.816951\n",
       "Indígena           0.322269\n",
       "Parda             35.342142\n",
       "Preta              7.852616"
      ]
     },
     "execution_count": 43,
     "metadata": {},
     "output_type": "execute_result"
    }
   ],
   "source": [
    "raca_din_JA_2011 = pd.crosstab(DF_JA_2011[\"RAÇA\"],DF_JA_2011[\"RENDA\"].loc[DF_JA_2011[\"RENDA\"]==\"Baixa Classe Alta\"], rownames=[\"RAÇA\"], colnames=[\"RENDA\"] )\n",
    "soma_tabela2 = raca_din_JA_2011.sum().sum()\n",
    "raca_din_JA_2011*100/soma_tabela2"
   ]
  },
  {
   "cell_type": "code",
   "execution_count": 44,
   "metadata": {},
   "outputs": [
    {
     "data": {
      "text/html": [
       "<div>\n",
       "<style scoped>\n",
       "    .dataframe tbody tr th:only-of-type {\n",
       "        vertical-align: middle;\n",
       "    }\n",
       "\n",
       "    .dataframe tbody tr th {\n",
       "        vertical-align: top;\n",
       "    }\n",
       "\n",
       "    .dataframe thead th {\n",
       "        text-align: right;\n",
       "    }\n",
       "</style>\n",
       "<table border=\"1\" class=\"dataframe\">\n",
       "  <thead>\n",
       "    <tr style=\"text-align: right;\">\n",
       "      <th>RENDA</th>\n",
       "      <th>Baixa Classe Alta</th>\n",
       "    </tr>\n",
       "    <tr>\n",
       "      <th>RAÇA</th>\n",
       "      <th></th>\n",
       "    </tr>\n",
       "  </thead>\n",
       "  <tbody>\n",
       "    <tr>\n",
       "      <th>Amarela</th>\n",
       "      <td>0.416044</td>\n",
       "    </tr>\n",
       "    <tr>\n",
       "      <th>Branca</th>\n",
       "      <td>48.982643</td>\n",
       "    </tr>\n",
       "    <tr>\n",
       "      <th>Indígena</th>\n",
       "      <td>0.279529</td>\n",
       "    </tr>\n",
       "    <tr>\n",
       "      <th>Parda</th>\n",
       "      <td>40.980303</td>\n",
       "    </tr>\n",
       "    <tr>\n",
       "      <th>Preta</th>\n",
       "      <td>9.341481</td>\n",
       "    </tr>\n",
       "  </tbody>\n",
       "</table>\n",
       "</div>"
      ],
      "text/plain": [
       "RENDA     Baixa Classe Alta\n",
       "RAÇA                       \n",
       "Amarela            0.416044\n",
       "Branca            48.982643\n",
       "Indígena           0.279529\n",
       "Parda             40.980303\n",
       "Preta              9.341481"
      ]
     },
     "execution_count": 44,
     "metadata": {},
     "output_type": "execute_result"
    }
   ],
   "source": [
    "raca_din_JA_2015 = pd.crosstab(DF_JA_2015[\"RAÇA\"],DF_JA_2015[\"RENDA\"].loc[DF_JA_2015[\"RENDA\"]==\"Baixa Classe Alta\"], rownames=[\"RAÇA\"], colnames=[\"RENDA\"] )\n",
    "soma_tabela3 = raca_din_JA_2015.sum().sum()\n",
    "raca_din_JA_2015*100/soma_tabela3"
   ]
  },
  {
   "cell_type": "markdown",
   "metadata": {},
   "source": [
    "##### Comparação entre porcentagens de jovens de cada raça que pertencem à Baixa Classe Alta\n",
    "\n",
    "."
   ]
  },
  {
   "cell_type": "code",
   "execution_count": 45,
   "metadata": {},
   "outputs": [
    {
     "data": {
      "text/html": [
       "<div>\n",
       "<style scoped>\n",
       "    .dataframe tbody tr th:only-of-type {\n",
       "        vertical-align: middle;\n",
       "    }\n",
       "\n",
       "    .dataframe tbody tr th {\n",
       "        vertical-align: top;\n",
       "    }\n",
       "\n",
       "    .dataframe thead th {\n",
       "        text-align: right;\n",
       "    }\n",
       "</style>\n",
       "<table border=\"1\" class=\"dataframe\">\n",
       "  <thead>\n",
       "    <tr style=\"text-align: right;\">\n",
       "      <th>RENDA</th>\n",
       "      <th>Não Se Aplica</th>\n",
       "      <th>Privado</th>\n",
       "      <th>Público</th>\n",
       "    </tr>\n",
       "    <tr>\n",
       "      <th>REDE DE ENSINO</th>\n",
       "      <th></th>\n",
       "      <th></th>\n",
       "      <th></th>\n",
       "    </tr>\n",
       "  </thead>\n",
       "  <tbody>\n",
       "    <tr>\n",
       "      <th>Amarela</th>\n",
       "      <td>52</td>\n",
       "      <td>6</td>\n",
       "      <td>4</td>\n",
       "    </tr>\n",
       "    <tr>\n",
       "      <th>Branca</th>\n",
       "      <td>4175</td>\n",
       "      <td>792</td>\n",
       "      <td>229</td>\n",
       "    </tr>\n",
       "    <tr>\n",
       "      <th>Indígena</th>\n",
       "      <td>24</td>\n",
       "      <td>3</td>\n",
       "      <td>3</td>\n",
       "    </tr>\n",
       "    <tr>\n",
       "      <th>Parda</th>\n",
       "      <td>2752</td>\n",
       "      <td>386</td>\n",
       "      <td>152</td>\n",
       "    </tr>\n",
       "    <tr>\n",
       "      <th>Preta</th>\n",
       "      <td>619</td>\n",
       "      <td>80</td>\n",
       "      <td>32</td>\n",
       "    </tr>\n",
       "  </tbody>\n",
       "</table>\n",
       "</div>"
      ],
      "text/plain": [
       "RENDA           Não Se Aplica  Privado  Público\n",
       "REDE DE ENSINO                                 \n",
       "Amarela                    52        6        4\n",
       "Branca                   4175      792      229\n",
       "Indígena                   24        3        3\n",
       "Parda                    2752      386      152\n",
       "Preta                     619       80       32"
      ]
     },
     "execution_count": 45,
     "metadata": {},
     "output_type": "execute_result"
    }
   ],
   "source": [
    "raca_esc_JA_2011 = pd.crosstab(DF_JA_2011[\"RAÇA\"],DF_JA_2011[\"REDE_ENS\"].loc[DF_JA_2011[\"RENDA\"]==\"Baixa Classe Alta\"], rownames=[\"REDE DE ENSINO\"], colnames=[\"RENDA\"] )\n",
    "raca_esc_JA_2011"
   ]
  },
  {
   "cell_type": "code",
   "execution_count": 46,
   "metadata": {},
   "outputs": [
    {
     "data": {
      "text/html": [
       "<div>\n",
       "<style scoped>\n",
       "    .dataframe tbody tr th:only-of-type {\n",
       "        vertical-align: middle;\n",
       "    }\n",
       "\n",
       "    .dataframe tbody tr th {\n",
       "        vertical-align: top;\n",
       "    }\n",
       "\n",
       "    .dataframe thead th {\n",
       "        text-align: right;\n",
       "    }\n",
       "</style>\n",
       "<table border=\"1\" class=\"dataframe\">\n",
       "  <thead>\n",
       "    <tr style=\"text-align: right;\">\n",
       "      <th>RENDA</th>\n",
       "      <th>Não Se Aplica</th>\n",
       "      <th>Privado</th>\n",
       "      <th>Público</th>\n",
       "    </tr>\n",
       "    <tr>\n",
       "      <th>REDE DE ENSINO</th>\n",
       "      <th></th>\n",
       "      <th></th>\n",
       "      <th></th>\n",
       "    </tr>\n",
       "  </thead>\n",
       "  <tbody>\n",
       "    <tr>\n",
       "      <th>Amarela</th>\n",
       "      <td>54</td>\n",
       "      <td>8</td>\n",
       "      <td>2</td>\n",
       "    </tr>\n",
       "    <tr>\n",
       "      <th>Branca</th>\n",
       "      <td>6170</td>\n",
       "      <td>1062</td>\n",
       "      <td>303</td>\n",
       "    </tr>\n",
       "    <tr>\n",
       "      <th>Indígena</th>\n",
       "      <td>38</td>\n",
       "      <td>1</td>\n",
       "      <td>4</td>\n",
       "    </tr>\n",
       "    <tr>\n",
       "      <th>Parda</th>\n",
       "      <td>5402</td>\n",
       "      <td>627</td>\n",
       "      <td>275</td>\n",
       "    </tr>\n",
       "    <tr>\n",
       "      <th>Preta</th>\n",
       "      <td>1254</td>\n",
       "      <td>128</td>\n",
       "      <td>55</td>\n",
       "    </tr>\n",
       "  </tbody>\n",
       "</table>\n",
       "</div>"
      ],
      "text/plain": [
       "RENDA           Não Se Aplica  Privado  Público\n",
       "REDE DE ENSINO                                 \n",
       "Amarela                    54        8        2\n",
       "Branca                   6170     1062      303\n",
       "Indígena                   38        1        4\n",
       "Parda                    5402      627      275\n",
       "Preta                    1254      128       55"
      ]
     },
     "execution_count": 46,
     "metadata": {},
     "output_type": "execute_result"
    }
   ],
   "source": [
    "raca_esc_JA_2015 = pd.crosstab(DF_JA_2015[\"RAÇA\"],DF_JA_2015[\"REDE_ENS\"].loc[DF_JA_2015[\"RENDA\"]==\"Baixa Classe Alta\"], rownames=[\"REDE DE ENSINO\"], colnames=[\"RENDA\"] )\n",
    "raca_esc_JA_2015"
   ]
  },
  {
   "cell_type": "markdown",
   "metadata": {},
   "source": [
    "##### Comparação entre a rede de ensino frequentada e a raça dos jovens\n",
    "\n",
    "."
   ]
  },
  {
   "cell_type": "code",
   "execution_count": 47,
   "metadata": {},
   "outputs": [
    {
     "data": {
      "image/png": "[encoded data removed]",
      "text/plain": [
       "<Figure size 792x360 with 2 Axes>"
      ]
     },
     "metadata": {},
     "output_type": "display_data"
    }
   ],
   "source": [
    "fig = plt.figure(figsize=(11,5))\n",
    "\n",
    "y_ticks = [10*x for x in range(10)]\n",
    "\n",
    "plt.subplot(131)\n",
    "ut1 = (DF_JA_2011['MOBILE'].value_counts(sort=False, normalize=True)*100).round(decimals=1)\n",
    "ut1.plot(kind='bar', title = \"USAM TELEFONE MOVEL - 2011\", yticks=y_ticks)\n",
    "plt.ylabel(\"Pessoas (%)\")\n",
    "\n",
    "plt.subplot(132)\n",
    "ut2 = (DF_JA_2015['MOBILE'].value_counts(sort=False, normalize=True)*100).round(decimals=1)\n",
    "ut2.plot(kind='bar', title = \"USAM TELEFONE MOVEL - 2015\", yticks=y_ticks)\n",
    "\n",
    "plt.tight_layout()\n",
    "plt.show()"
   ]
  },
  {
   "cell_type": "markdown",
   "metadata": {},
   "source": [
    "___\n",
    "## Conclusão "
   ]
  },
  {
   "cell_type": "markdown",
   "metadata": {
    "collapsed": true
   },
   "source": [
    "Descreva aqui suas conclusões!"
   ]
  },
  {
   "cell_type": "markdown",
   "metadata": {},
   "source": [
    "Agora que a análise está completa, retoma-se as perguntas relacionadas aos dados:\n",
    " \n",
    " O numero e perfil de pessoas que são de **baixa classe alta** aumentou por conta da tecnologia/internete móvel? E o número de homens que ganham mais que mulheres mudou? E o que influencia nessa mudança, caso exista. \n",
    " \n",
    "Os dados mudam ao analisarmos os jovens adultos?\n",
    " \n",
    "Respondendo a primeira parte dela, pode-se dizer que realmente existiu um aumento no percentual de pessoas que são de baixa classe alta por conta da tecnologia/internet móvel entre os anos de 2011 e 2015. Nesse gráfico observa-se que o número de pessoas que usam telefone móvel e que estão presentes na classe social a ser analisada aumentou consideravelmente em relação ao ano anterior, barra verde do gráfico (sim). Algo mais interessante e positivo para a sociedade sobre os dados seria que, durante esses anos, existiu um aumento porcentual de algumas raças dentro dessa mesma classe, consequentimente do gráfico também, principalmente pelas \"Pardas\" e \"Pretas\", e um declíneo de outras, como \"Amarelas\" e \"Brancas\".\n",
    "\n",
    "Implementando a mesma questão para a idade que foi classificada como \"Jovens Adultos\", temos o mesmo comportamento presente em relação aumento de pessoas que são de baixa classe alta por conta da tecnologia/internet móvel e até mesmo na parte das raças. Essa mudança pode não ser ter tão brusca, mas mesmo assim existe.\n",
    "\n",
    "Partindo para a segunda parte da pergunta em relação ao número de homens que ganham mais que mulheres, observa-se primeiramente que ambos os sexos tiveram um bom aumento de números entre os anos analisados, porém em ritmos diferentes, já que a diferença entre eles creseceu. No ano de 2011 essa diferença era de 12455, enquanto que em 2015 esse número sobe para 15589, tendo um aumento de 3134 dessa diferença durante o decorrer dos anos. \n",
    "\n",
    "Esse comportamento ainda é observado na idade que foi classificada como \"Jovens Adultos\" também, uma vez que a diferença também cresceu ao longo do tempo, como observa-se no ano de 2011, onde essa diferença é de 3403, e no ano de 2015, que é de 4641 (ela cresceu 1238 unidades). Pode não ter sido tão grande como a outra, mas mesmo assim é algo preocupante.\n",
    "\n",
    "Essa diferença significa que a desigualdade salárial entre homens e mulheres tende a aumentar cada vez mais, resultando em mais homens que mulheres nessa classe social por um tempo indefinido. Caso esse comportamento não mude, as mulheres nunca chegarão ao mesmo número que os homens nessa classe, mostrando que essa diferença salarial nunca vai deixar de existir e que as mulheres, em sua grande maioria, não terão as mesmas condições econômicas que os homens, podendo gerar dependência (fortalecendo o machismo).\n",
    "\n"
   ]
  },
  {
   "cell_type": "code",
   "execution_count": null,
   "metadata": {},
   "outputs": [],
   "source": []
  }
 ],
 "metadata": {
  "anaconda-cloud": {},
  "kernelspec": {
   "display_name": "Python 3",
   "language": "python",
   "name": "python3"
  },
  "language_info": {
   "codemirror_mode": {
    "name": "ipython",
    "version": 3
   },
   "file_extension": ".py",
   "mimetype": "text/x-python",
   "name": "python",
   "nbconvert_exporter": "python",
   "pygments_lexer": "ipython3",
   "version": "3.6.4"
  }
 },
 "nbformat": 4,
 "nbformat_minor": 1
}
