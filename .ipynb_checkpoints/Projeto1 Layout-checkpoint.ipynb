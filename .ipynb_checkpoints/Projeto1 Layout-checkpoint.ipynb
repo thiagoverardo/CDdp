{
 "cells": [
  {
   "cell_type": "markdown",
   "metadata": {},
   "source": [
    "___\n",
    "# Ciência dos Dados - PROJETO 1"
   ]
  },
  {
   "cell_type": "markdown",
   "metadata": {},
   "source": [
    "## Renato Tajima e Thiago Verardo\n",
    "___"
   ]
  },
  {
   "cell_type": "markdown",
   "metadata": {},
   "source": [
    "## Descrição do perfil dos brasileiros economicamente ativos"
   ]
  },
  {
   "cell_type": "markdown",
   "metadata": {},
   "source": [
    "___\n",
    "## Introdução\n",
    "\n",
    "O objetivo do projeto é analisar o perfil dos brasileiros economicamente ativos. Com isso, iremos analisar variáveis que influenciam um brasileiro a ser ativo economicamente, seja pela classe, escolaridade, estado, ou o que quisermos ver se é relacionado. \n",
    "\n",
    "As informações serão retiradas da PNAD.\n"
   ]
  },
  {
   "cell_type": "markdown",
   "metadata": {},
   "source": [
    "___\n",
    "## Filtros da base de dados"
   ]
  },
  {
   "cell_type": "code",
   "execution_count": 1,
   "metadata": {},
   "outputs": [],
   "source": [
    "%matplotlib inline\n",
    "import pandas as pd\n",
    "import matplotlib.pyplot as plt\n",
    "import numpy as np\n",
    "import os"
   ]
  },
  {
   "cell_type": "code",
   "execution_count": 2,
   "metadata": {},
   "outputs": [
    {
     "name": "stdout",
     "output_type": "stream",
     "text": [
      "Esperamos trabalhar no diretório\n",
      "C:\\Users\\User\\Desktop\\Cddp\\CDdp\n"
     ]
    }
   ],
   "source": [
    "print('Esperamos trabalhar no diretório')\n",
    "print(os.getcwd())"
   ]
  },
  {
   "cell_type": "code",
   "execution_count": 3,
   "metadata": {},
   "outputs": [
    {
     "ename": "FileNotFoundError",
     "evalue": "File b'PES2015.csv' does not exist",
     "output_type": "error",
     "traceback": [
      "\u001b[1;31m---------------------------------------------------------------------------\u001b[0m",
      "\u001b[1;31mFileNotFoundError\u001b[0m                         Traceback (most recent call last)",
      "\u001b[1;32m<ipython-input-3-32f754f8372d>\u001b[0m in \u001b[0;36m<module>\u001b[1;34m()\u001b[0m\n\u001b[1;32m----> 1\u001b[1;33m \u001b[0mDF_2015\u001b[0m \u001b[1;33m=\u001b[0m \u001b[0mpd\u001b[0m\u001b[1;33m.\u001b[0m\u001b[0mread_csv\u001b[0m\u001b[1;33m(\u001b[0m\u001b[1;34m'PES2015.csv'\u001b[0m\u001b[1;33m,\u001b[0m\u001b[0msep\u001b[0m\u001b[1;33m=\u001b[0m\u001b[1;34m','\u001b[0m\u001b[1;33m)\u001b[0m\u001b[1;33m\u001b[0m\u001b[0m\n\u001b[0m\u001b[0;32m      2\u001b[0m \u001b[0mDF_2011\u001b[0m \u001b[1;33m=\u001b[0m \u001b[0mpd\u001b[0m\u001b[1;33m.\u001b[0m\u001b[0mread_csv\u001b[0m\u001b[1;33m(\u001b[0m\u001b[1;34m'PES2011.csv'\u001b[0m\u001b[1;33m,\u001b[0m\u001b[0msep\u001b[0m\u001b[1;33m=\u001b[0m\u001b[1;34m','\u001b[0m\u001b[1;33m)\u001b[0m\u001b[1;33m\u001b[0m\u001b[0m\n",
      "\u001b[1;32m~\\Anaconda3\\lib\\site-packages\\pandas\\io\\parsers.py\u001b[0m in \u001b[0;36mparser_f\u001b[1;34m(filepath_or_buffer, sep, delimiter, header, names, index_col, usecols, squeeze, prefix, mangle_dupe_cols, dtype, engine, converters, true_values, false_values, skipinitialspace, skiprows, nrows, na_values, keep_default_na, na_filter, verbose, skip_blank_lines, parse_dates, infer_datetime_format, keep_date_col, date_parser, dayfirst, iterator, chunksize, compression, thousands, decimal, lineterminator, quotechar, quoting, escapechar, comment, encoding, dialect, tupleize_cols, error_bad_lines, warn_bad_lines, skipfooter, skip_footer, doublequote, delim_whitespace, as_recarray, compact_ints, use_unsigned, low_memory, buffer_lines, memory_map, float_precision)\u001b[0m\n\u001b[0;32m    707\u001b[0m                     skip_blank_lines=skip_blank_lines)\n\u001b[0;32m    708\u001b[0m \u001b[1;33m\u001b[0m\u001b[0m\n\u001b[1;32m--> 709\u001b[1;33m         \u001b[1;32mreturn\u001b[0m \u001b[0m_read\u001b[0m\u001b[1;33m(\u001b[0m\u001b[0mfilepath_or_buffer\u001b[0m\u001b[1;33m,\u001b[0m \u001b[0mkwds\u001b[0m\u001b[1;33m)\u001b[0m\u001b[1;33m\u001b[0m\u001b[0m\n\u001b[0m\u001b[0;32m    710\u001b[0m \u001b[1;33m\u001b[0m\u001b[0m\n\u001b[0;32m    711\u001b[0m     \u001b[0mparser_f\u001b[0m\u001b[1;33m.\u001b[0m\u001b[0m__name__\u001b[0m \u001b[1;33m=\u001b[0m \u001b[0mname\u001b[0m\u001b[1;33m\u001b[0m\u001b[0m\n",
      "\u001b[1;32m~\\Anaconda3\\lib\\site-packages\\pandas\\io\\parsers.py\u001b[0m in \u001b[0;36m_read\u001b[1;34m(filepath_or_buffer, kwds)\u001b[0m\n\u001b[0;32m    447\u001b[0m \u001b[1;33m\u001b[0m\u001b[0m\n\u001b[0;32m    448\u001b[0m     \u001b[1;31m# Create the parser.\u001b[0m\u001b[1;33m\u001b[0m\u001b[1;33m\u001b[0m\u001b[0m\n\u001b[1;32m--> 449\u001b[1;33m     \u001b[0mparser\u001b[0m \u001b[1;33m=\u001b[0m \u001b[0mTextFileReader\u001b[0m\u001b[1;33m(\u001b[0m\u001b[0mfilepath_or_buffer\u001b[0m\u001b[1;33m,\u001b[0m \u001b[1;33m**\u001b[0m\u001b[0mkwds\u001b[0m\u001b[1;33m)\u001b[0m\u001b[1;33m\u001b[0m\u001b[0m\n\u001b[0m\u001b[0;32m    450\u001b[0m \u001b[1;33m\u001b[0m\u001b[0m\n\u001b[0;32m    451\u001b[0m     \u001b[1;32mif\u001b[0m \u001b[0mchunksize\u001b[0m \u001b[1;32mor\u001b[0m \u001b[0miterator\u001b[0m\u001b[1;33m:\u001b[0m\u001b[1;33m\u001b[0m\u001b[0m\n",
      "\u001b[1;32m~\\Anaconda3\\lib\\site-packages\\pandas\\io\\parsers.py\u001b[0m in \u001b[0;36m__init__\u001b[1;34m(self, f, engine, **kwds)\u001b[0m\n\u001b[0;32m    816\u001b[0m             \u001b[0mself\u001b[0m\u001b[1;33m.\u001b[0m\u001b[0moptions\u001b[0m\u001b[1;33m[\u001b[0m\u001b[1;34m'has_index_names'\u001b[0m\u001b[1;33m]\u001b[0m \u001b[1;33m=\u001b[0m \u001b[0mkwds\u001b[0m\u001b[1;33m[\u001b[0m\u001b[1;34m'has_index_names'\u001b[0m\u001b[1;33m]\u001b[0m\u001b[1;33m\u001b[0m\u001b[0m\n\u001b[0;32m    817\u001b[0m \u001b[1;33m\u001b[0m\u001b[0m\n\u001b[1;32m--> 818\u001b[1;33m         \u001b[0mself\u001b[0m\u001b[1;33m.\u001b[0m\u001b[0m_make_engine\u001b[0m\u001b[1;33m(\u001b[0m\u001b[0mself\u001b[0m\u001b[1;33m.\u001b[0m\u001b[0mengine\u001b[0m\u001b[1;33m)\u001b[0m\u001b[1;33m\u001b[0m\u001b[0m\n\u001b[0m\u001b[0;32m    819\u001b[0m \u001b[1;33m\u001b[0m\u001b[0m\n\u001b[0;32m    820\u001b[0m     \u001b[1;32mdef\u001b[0m \u001b[0mclose\u001b[0m\u001b[1;33m(\u001b[0m\u001b[0mself\u001b[0m\u001b[1;33m)\u001b[0m\u001b[1;33m:\u001b[0m\u001b[1;33m\u001b[0m\u001b[0m\n",
      "\u001b[1;32m~\\Anaconda3\\lib\\site-packages\\pandas\\io\\parsers.py\u001b[0m in \u001b[0;36m_make_engine\u001b[1;34m(self, engine)\u001b[0m\n\u001b[0;32m   1047\u001b[0m     \u001b[1;32mdef\u001b[0m \u001b[0m_make_engine\u001b[0m\u001b[1;33m(\u001b[0m\u001b[0mself\u001b[0m\u001b[1;33m,\u001b[0m \u001b[0mengine\u001b[0m\u001b[1;33m=\u001b[0m\u001b[1;34m'c'\u001b[0m\u001b[1;33m)\u001b[0m\u001b[1;33m:\u001b[0m\u001b[1;33m\u001b[0m\u001b[0m\n\u001b[0;32m   1048\u001b[0m         \u001b[1;32mif\u001b[0m \u001b[0mengine\u001b[0m \u001b[1;33m==\u001b[0m \u001b[1;34m'c'\u001b[0m\u001b[1;33m:\u001b[0m\u001b[1;33m\u001b[0m\u001b[0m\n\u001b[1;32m-> 1049\u001b[1;33m             \u001b[0mself\u001b[0m\u001b[1;33m.\u001b[0m\u001b[0m_engine\u001b[0m \u001b[1;33m=\u001b[0m \u001b[0mCParserWrapper\u001b[0m\u001b[1;33m(\u001b[0m\u001b[0mself\u001b[0m\u001b[1;33m.\u001b[0m\u001b[0mf\u001b[0m\u001b[1;33m,\u001b[0m \u001b[1;33m**\u001b[0m\u001b[0mself\u001b[0m\u001b[1;33m.\u001b[0m\u001b[0moptions\u001b[0m\u001b[1;33m)\u001b[0m\u001b[1;33m\u001b[0m\u001b[0m\n\u001b[0m\u001b[0;32m   1050\u001b[0m         \u001b[1;32melse\u001b[0m\u001b[1;33m:\u001b[0m\u001b[1;33m\u001b[0m\u001b[0m\n\u001b[0;32m   1051\u001b[0m             \u001b[1;32mif\u001b[0m \u001b[0mengine\u001b[0m \u001b[1;33m==\u001b[0m \u001b[1;34m'python'\u001b[0m\u001b[1;33m:\u001b[0m\u001b[1;33m\u001b[0m\u001b[0m\n",
      "\u001b[1;32m~\\Anaconda3\\lib\\site-packages\\pandas\\io\\parsers.py\u001b[0m in \u001b[0;36m__init__\u001b[1;34m(self, src, **kwds)\u001b[0m\n\u001b[0;32m   1693\u001b[0m         \u001b[0mkwds\u001b[0m\u001b[1;33m[\u001b[0m\u001b[1;34m'allow_leading_cols'\u001b[0m\u001b[1;33m]\u001b[0m \u001b[1;33m=\u001b[0m \u001b[0mself\u001b[0m\u001b[1;33m.\u001b[0m\u001b[0mindex_col\u001b[0m \u001b[1;32mis\u001b[0m \u001b[1;32mnot\u001b[0m \u001b[1;32mFalse\u001b[0m\u001b[1;33m\u001b[0m\u001b[0m\n\u001b[0;32m   1694\u001b[0m \u001b[1;33m\u001b[0m\u001b[0m\n\u001b[1;32m-> 1695\u001b[1;33m         \u001b[0mself\u001b[0m\u001b[1;33m.\u001b[0m\u001b[0m_reader\u001b[0m \u001b[1;33m=\u001b[0m \u001b[0mparsers\u001b[0m\u001b[1;33m.\u001b[0m\u001b[0mTextReader\u001b[0m\u001b[1;33m(\u001b[0m\u001b[0msrc\u001b[0m\u001b[1;33m,\u001b[0m \u001b[1;33m**\u001b[0m\u001b[0mkwds\u001b[0m\u001b[1;33m)\u001b[0m\u001b[1;33m\u001b[0m\u001b[0m\n\u001b[0m\u001b[0;32m   1696\u001b[0m \u001b[1;33m\u001b[0m\u001b[0m\n\u001b[0;32m   1697\u001b[0m         \u001b[1;31m# XXX\u001b[0m\u001b[1;33m\u001b[0m\u001b[1;33m\u001b[0m\u001b[0m\n",
      "\u001b[1;32mpandas/_libs/parsers.pyx\u001b[0m in \u001b[0;36mpandas._libs.parsers.TextReader.__cinit__\u001b[1;34m()\u001b[0m\n",
      "\u001b[1;32mpandas/_libs/parsers.pyx\u001b[0m in \u001b[0;36mpandas._libs.parsers.TextReader._setup_parser_source\u001b[1;34m()\u001b[0m\n",
      "\u001b[1;31mFileNotFoundError\u001b[0m: File b'PES2015.csv' does not exist"
     ]
    }
   ],
   "source": [
    "DF_2015 = pd.read_csv('PES2015.csv',sep=',')\n",
    "DF_2011 = pd.read_csv('PES2011.csv',sep=',')"
   ]
  },
  {
   "cell_type": "code",
   "execution_count": null,
   "metadata": {},
   "outputs": [],
   "source": [
    "DF_2011.head()"
   ]
  },
  {
   "cell_type": "markdown",
   "metadata": {
    "collapsed": true
   },
   "source": [
    "# Variáveis escolhidas:\n",
    "\n",
    "Unidade de Federação, sexo, idade, cor ou raça, estado civil, saber ler e escrever, rede de ensino, tem telefone móvel. "
   ]
  },
  {
   "cell_type": "code",
   "execution_count": null,
   "metadata": {},
   "outputs": [],
   "source": [
    "DF_2011_novo = pd.DataFrame()\n",
    "DF_2011_novo[['UF','SEXO','IDADE','RAÇA','EST_CIV','LER_ESC','REDE_ENS', 'MOBILE','RENDA']] = DF_2011[['UF','V0302','V8005','V0404','V4011','V0601','V6002', 'V06112', 'V9532']]\n",
    "DF_2011_novo.head(20)"
   ]
  },
  {
   "cell_type": "code",
   "execution_count": null,
   "metadata": {},
   "outputs": [],
   "source": [
    "try:\n",
    "    DF_2011_novo.loc[(DF_2011_novo.UF == 11), \"UF\"] = \"Rondonia\"\n",
    "    DF_2011_novo.loc[(DF_2011_novo.UF == 12), \"UF\"] = \"Acre\"\n",
    "    DF_2011_novo.loc[(DF_2011_novo.UF == 13), \"UF\"] = \"Amazonas\"\n",
    "    DF_2011_novo.loc[(DF_2011_novo.UF == 14), \"UF\"] = \"Roraima\"\n",
    "    DF_2011_novo.loc[(DF_2011_novo.UF == 15), \"UF\"] = \"Pará\"\n",
    "    DF_2011_novo.loc[(DF_2011_novo.UF == 16), \"UF\"] = \"Amapá\"\n",
    "    DF_2011_novo.loc[(DF_2011_novo.UF == 17), \"UF\"] = \"Tocantins\"\n",
    "    DF_2011_novo.loc[(DF_2011_novo.UF == 21), \"UF\"] = \"Maranhão\"\n",
    "    DF_2011_novo.loc[(DF_2011_novo.UF == 22), \"UF\"] = \"Piauí\"\n",
    "    DF_2011_novo.loc[(DF_2011_novo.UF == 23), \"UF\"] = \"Ceará\"\n",
    "    DF_2011_novo.loc[(DF_2011_novo.UF == 24), \"UF\"] = \"Rio Grande do Norte\"\n",
    "    DF_2011_novo.loc[(DF_2011_novo.UF == 25), \"UF\"] = \"Paraíba\"\n",
    "    DF_2011_novo.loc[(DF_2011_novo.UF == 26), \"UF\"] = \"Pernambuco\"\n",
    "    DF_2011_novo.loc[(DF_2011_novo.UF == 27), \"UF\"] = \"Alagoas\"\n",
    "    DF_2011_novo.loc[(DF_2011_novo.UF == 28), \"UF\"] = \"Sergipe\"\n",
    "    DF_2011_novo.loc[(DF_2011_novo.UF == 29), \"UF\"] = \"Bahia\"\n",
    "    DF_2011_novo.loc[(DF_2011_novo.UF == 31), \"UF\"] = \"Minas Gerais\"\n",
    "    DF_2011_novo.loc[(DF_2011_novo.UF == 32), \"UF\"] = \"Espírito Santo\"\n",
    "    DF_2011_novo.loc[(DF_2011_novo.UF == 33), \"UF\"] = \"Rio de Janeiro\"\n",
    "    DF_2011_novo.loc[(DF_2011_novo.UF == 35), \"UF\"] = \"São Paulo\"\n",
    "    DF_2011_novo.loc[(DF_2011_novo.UF == 41), \"UF\"] = \"Paraná\"\n",
    "    DF_2011_novo.loc[(DF_2011_novo.UF == 42), \"UF\"] = \"Santa Catarina\"\n",
    "    DF_2011_novo.loc[(DF_2011_novo.UF == 43), \"UF\"] = \"Rio Grande do Sul\"\n",
    "    DF_2011_novo.loc[(DF_2011_novo.UF == 50), \"UF\"] = \"Mato Grosso do Sul\"\n",
    "    DF_2011_novo.loc[(DF_2011_novo.UF == 51), \"UF\"] = \"Mato Grosso\"\n",
    "    DF_2011_novo.loc[(DF_2011_novo.UF == 52), \"UF\"] = \"Goiás\"\n",
    "    DF_2011_novo.loc[(DF_2011_novo.UF == 53), \"UF\"] = \"Distrito Federal\"\n",
    "\n",
    "except:\"\"\n",
    "    \n",
    "DF_2011_novo.UF.value_counts()"
   ]
  },
  {
   "cell_type": "code",
   "execution_count": null,
   "metadata": {},
   "outputs": [],
   "source": [
    "try:\n",
    "    DF_2011_novo.loc[(DF_2011_novo.SEXO == 2), \"SEXO\"] = \"Masculino\"\n",
    "    DF_2011_novo.loc[(DF_2011_novo.SEXO == 4), \"SEXO\"] = \"Feminino\"\n",
    "    \n",
    "except:\"\"\n",
    "    \n",
    "DF_2011_novo.SEXO.head()"
   ]
  },
  {
   "cell_type": "code",
   "execution_count": null,
   "metadata": {},
   "outputs": [],
   "source": [
    "try:\n",
    "    DF_2011_novo.loc[(DF_2011_novo.RAÇA == 2), \"RAÇA\"] = \"Branca\"\n",
    "    DF_2011_novo.loc[(DF_2011_novo.RAÇA == 4), \"RAÇA\"] = \"Preta\"\n",
    "    DF_2011_novo.loc[(DF_2011_novo.RAÇA == 6), \"RAÇA\"] = \"Amarela\"\n",
    "    DF_2011_novo.loc[(DF_2011_novo.RAÇA == 8), \"RAÇA\"] = \"Parda\"\n",
    "    DF_2011_novo.loc[(DF_2011_novo.RAÇA == 0), \"RAÇA\"] = \"Indígena\"\n",
    "    DF_2011_novo.loc[(DF_2011_novo.RAÇA == 9), \"RAÇA\"] = \"Sem declaração\"\n",
    "    \n",
    "except:\"\"\n",
    "    \n",
    "DF_2011_novo.RAÇA.head()"
   ]
  },
  {
   "cell_type": "code",
   "execution_count": null,
   "metadata": {},
   "outputs": [],
   "source": [
    "try:\n",
    "    DF_2011_novo.loc[(DF_2011_novo.EST_CIV == 1), \"EST_CIV\"] = \"Casado(a)\"\n",
    "    DF_2011_novo.loc[(DF_2011_novo.EST_CIV == 3), \"EST_CIV\"] = \"Desquitado(a) ou Separado(a)\"\n",
    "    DF_2011_novo.loc[(DF_2011_novo.EST_CIV == 5), \"EST_CIV\"] = \"Divorciado(a)\"\n",
    "    DF_2011_novo.loc[(DF_2011_novo.EST_CIV == 7), \"EST_CIV\"] = \"Viúvo(a)\"\n",
    "    DF_2011_novo.loc[(DF_2011_novo.EST_CIV == 0), \"EST_CIV\"] = \"Solteiro(a)\"\n",
    "    DF_2011_novo.loc[(DF_2011_novo.EST_CIV.isnull() == True), \"EST_CIV\"] = \"Não Se Aplica\" \n",
    "    \n",
    "except:\"\"\n",
    "    \n",
    "    \n",
    "DF_2011_novo.EST_CIV.head()"
   ]
  },
  {
   "cell_type": "code",
   "execution_count": null,
   "metadata": {},
   "outputs": [],
   "source": [
    "try:\n",
    "    DF_2011_novo.loc[(DF_2011_novo.LER_ESC == 1), \"LER_ESC\"] = \"Sim\"\n",
    "    DF_2011_novo.loc[(DF_2011_novo.LER_ESC == 3), \"LER_ESC\"] = \"Não\"\n",
    "    \n",
    "except:\"\"\n",
    "    \n",
    "    \n",
    "DF_2011_novo.LER_ESC.head()"
   ]
  },
  {
   "cell_type": "code",
   "execution_count": null,
   "metadata": {},
   "outputs": [],
   "source": [
    "try:\n",
    "    DF_2011_novo.loc[(DF_2011_novo.REDE_ENS == 2), \"REDE_ENS\"] = \"Público\"\n",
    "    DF_2011_novo.loc[(DF_2011_novo.REDE_ENS == 4), \"REDE_ENS\"] = \"Privado\"\n",
    "    DF_2011_novo.loc[(DF_2011_novo.REDE_ENS.isnull() == True), \"REDE_ENS\"] = \"Não Se Aplica\"     \n",
    "except:\"\"\n",
    "    \n",
    "    \n",
    "DF_2011_novo.REDE_ENS.head()"
   ]
  },
  {
   "cell_type": "code",
   "execution_count": null,
   "metadata": {},
   "outputs": [],
   "source": [
    "try:\n",
    "    DF_2011_novo.loc[(DF_2011_novo.MOBILE == 1), \"MOBILE\"] = \"Sim\"\n",
    "    DF_2011_novo.loc[(DF_2011_novo.MOBILE == 3), \"MOBILE\"] = \"Não\"\n",
    "    DF_2011_novo.loc[(DF_2011_novo.MOBILE.isnull() == True), \"MOBILE\"] = \"Não Se Aplica\"  \n",
    "    \n",
    "except:\"\"\n",
    "    \n",
    "    \n",
    "DF_2011_novo.MOBILE.head()"
   ]
  },
  {
   "cell_type": "code",
   "execution_count": null,
   "metadata": {},
   "outputs": [],
   "source": [
    "try:\n",
    "#     DF_2011_novo.loc[(DF_2011_novo.IDADE >= 0)&(DF_2011_novo.IDADE <= 13), \"IDADE\"] = \"Criança\"\n",
    "#     DF_2011_novo.loc[(DF_2011_novo.IDADE >= 14)&(DF_2011_novo.IDADE <= 17), \"IDADE\"] = \"Adolescente\"\n",
    "    DF_2011_novo.loc[(DF_2011_novo.IDADE >= 18 )&(DF_2011_novo.IDADE <= 30), \"IDADE\"] = \"Jovem Adulto\"\n",
    "#     DF_2011_novo.loc[(DF_2011_novo.IDADE >= 31)&(DF_2011_novo.IDADE <=50), \"IDADE\"] = \"Adulto\"\n",
    "#     DF_2011_novo.loc[(DF_2011_novo.IDADE >= 51)&(DF_2011_novo.IDADE <= 120), \"IDADE\"] = \"Idoso\"\n",
    "    DF_2011_novo.loc[(DF_2011_novo.IDADE.isnull() == True), \"IDADE\"] <= \"Não Se Aplica\"  \n",
    "except:\"\"\n",
    "\n",
    "    \n",
    "DF_2011_novo.IDADE.head()"
   ]
  },
  {
   "cell_type": "code",
   "execution_count": null,
   "metadata": {},
   "outputs": [],
   "source": [
    "\n",
    "try:\n",
    "#     DF_2011_novo.loc[(DF_2011_novo.RENDA >= 0)&(DF_2011_novo.RENDA <= 81), \"RENDA\"] = \"Extrema Pobreza\"\n",
    "#     DF_2011_novo.loc[(DF_2011_novo.RENDA == 82)&(DF_2011_novo.RENDA == 162), \"RENDA\"] = \"Pobre\"\n",
    "#     DF_2011_novo.loc[(DF_2011_novo.RENDA == 163 )&(DF_2011_novo.RENDA == 291), \"RENDA\"] = \"Vulnerável\"\n",
    "#     DF_2011_novo.loc[(DF_2011_novo.RENDA == 292)&(DF_2011_novo.RENDA == 441), \"RENDA\"] = \"Baixa Classe Média\"\n",
    "#     DF_2011_novo.loc[(DF_2011_novo.RENDA == 442)&(DF_2011_novo.RENDA == 641), \"RENDA\"] = \"Classe Média\"\n",
    "#     DF_2011_novo.loc[(DF_2011_novo.RENDA == 642)&(DF_2011_novo.RENDA == 1019), \"RENDA\"] = \"Alta Classe Média\"\n",
    "    DF_2011_novo.loc[(DF_2011_novo.RENDA >= 1020)&(DF_2011_novo.RENDA <= 2480), \"RENDA\"] = \"Baixa Classe Alta\"\n",
    "#    DF_2011_novo.loc[(DF_2011_novo.RENDA >= 2482)&(DF_2011_novo.RENDA <= 800000000), \"RENDA\"] = \"Classe Alta\"\n",
    "    DF_2011_novo.loc[(DF_2011_novo.RENDA == 1e+12), \"RENDA\"] = \"Não Declarado\"\n",
    "    DF_2011_novo.loc[(DF_2011_novo.RENDA.isnull() == True), \"RENDA\"] = \"Não Se Aplica\"  \n",
    "except:\"\"\n",
    "\n",
    "    \n",
    "DF_2011_novo.RENDA.head()"
   ]
  },
  {
   "cell_type": "code",
   "execution_count": null,
   "metadata": {},
   "outputs": [],
   "source": [
    "DF_2011_novo.head()"
   ]
  },
  {
   "cell_type": "code",
   "execution_count": null,
   "metadata": {},
   "outputs": [],
   "source": [
    "DF_2015_novo = pd.DataFrame()\n",
    "DF_2015_novo[['UF','SEXO','IDADE','RAÇA','EST_CIV','LER_ESC','REDE_ENS', 'MOBILE','RENDA']] = DF_2015[['UF','V0302','V8005','V0404','V4011','V0601','V6002', 'V06112', 'V9532']]\n",
    "DF_2015_novo.head()"
   ]
  },
  {
   "cell_type": "code",
   "execution_count": null,
   "metadata": {},
   "outputs": [],
   "source": [
    "try:\n",
    "    DF_2015_novo.loc[(DF_2015_novo.UF == 11), \"UF\"] = \"Rondonia\"\n",
    "    DF_2015_novo.loc[(DF_2015_novo.UF == 12), \"UF\"] = \"Acre\"\n",
    "    DF_2015_novo.loc[(DF_2015_novo.UF == 13), \"UF\"] = \"Amazonas\"\n",
    "    DF_2015_novo.loc[(DF_2015_novo.UF == 14), \"UF\"] = \"Roraima\"\n",
    "    DF_2015_novo.loc[(DF_2015_novo.UF == 15), \"UF\"] = \"Pará\"\n",
    "    DF_2015_novo.loc[(DF_2015_novo.UF == 16), \"UF\"] = \"Amapá\"\n",
    "    DF_2015_novo.loc[(DF_2015_novo.UF == 17), \"UF\"] = \"Tocantins\"\n",
    "    DF_2015_novo.loc[(DF_2015_novo.UF == 21), \"UF\"] = \"Maranhão\"\n",
    "    DF_2015_novo.loc[(DF_2015_novo.UF == 22), \"UF\"] = \"Piauí\"\n",
    "    DF_2015_novo.loc[(DF_2015_novo.UF == 23), \"UF\"] = \"Ceará\"\n",
    "    DF_2015_novo.loc[(DF_2015_novo.UF == 24), \"UF\"] = \"Rio Grande do Norte\"\n",
    "    DF_2015_novo.loc[(DF_2015_novo.UF == 25), \"UF\"] = \"Paraíba\"\n",
    "    DF_2015_novo.loc[(DF_2015_novo.UF == 26), \"UF\"] = \"Pernambuco\"\n",
    "    DF_2015_novo.loc[(DF_2015_novo.UF == 27), \"UF\"] = \"Alagoas\"\n",
    "    DF_2015_novo.loc[(DF_2015_novo.UF == 28), \"UF\"] = \"Sergipe\"\n",
    "    DF_2015_novo.loc[(DF_2015_novo.UF == 29), \"UF\"] = \"Bahia\"\n",
    "    DF_2015_novo.loc[(DF_2015_novo.UF == 31), \"UF\"] = \"Minas Gerais\"\n",
    "    DF_2015_novo.loc[(DF_2015_novo.UF == 32), \"UF\"] = \"Espírito Santo\"\n",
    "    DF_2015_novo.loc[(DF_2015_novo.UF == 33), \"UF\"] = \"Rio de Janeiro\"\n",
    "    DF_2015_novo.loc[(DF_2015_novo.UF == 35), \"UF\"] = \"São Paulo\"\n",
    "    DF_2015_novo.loc[(DF_2015_novo.UF == 41), \"UF\"] = \"Paraná\"\n",
    "    DF_2015_novo.loc[(DF_2015_novo.UF == 42), \"UF\"] = \"Santa Catarina\"\n",
    "    DF_2015_novo.loc[(DF_2015_novo.UF == 43), \"UF\"] = \"Rio Grande do Sul\"\n",
    "    DF_2015_novo.loc[(DF_2015_novo.UF == 50), \"UF\"] = \"Mato Grosso do Sul\"\n",
    "    DF_2015_novo.loc[(DF_2015_novo.UF == 51), \"UF\"] = \"Mato Grosso\"\n",
    "    DF_2015_novo.loc[(DF_2015_novo.UF == 52), \"UF\"] = \"Goiás\"\n",
    "    DF_2015_novo.loc[(DF_2015_novo.UF == 53), \"UF\"] = \"Distrito Federal\"\n",
    "\n",
    "except:\"\"\n",
    "    \n",
    "DF_2015_novo.UF.value_counts()"
   ]
  },
  {
   "cell_type": "code",
   "execution_count": null,
   "metadata": {},
   "outputs": [],
   "source": [
    "try:\n",
    "    DF_2015_novo.loc[(DF_2015_novo.SEXO == 2), \"SEXO\"] = \"Masculino\"\n",
    "    DF_2015_novo.loc[(DF_2015_novo.SEXO == 4), \"SEXO\"] = \"Feminino\"\n",
    "    \n",
    "except:\"\"\n",
    "    \n",
    "DF_2015_novo.SEXO.head()"
   ]
  },
  {
   "cell_type": "code",
   "execution_count": null,
   "metadata": {},
   "outputs": [],
   "source": [
    "try:\n",
    "    DF_2015_novo.loc[(DF_2015_novo.RAÇA == 2), \"RAÇA\"] = \"Branca\"\n",
    "    DF_2015_novo.loc[(DF_2015_novo.RAÇA == 4), \"RAÇA\"] = \"Preta\"\n",
    "    DF_2015_novo.loc[(DF_2015_novo.RAÇA == 6), \"RAÇA\"] = \"Amarela\"\n",
    "    DF_2015_novo.loc[(DF_2015_novo.RAÇA == 8), \"RAÇA\"] = \"Parda\"\n",
    "    DF_2015_novo.loc[(DF_2015_novo.RAÇA == 0), \"RAÇA\"] = \"Indígena\"\n",
    "    DF_2015_novo.loc[(DF_2015_novo.RAÇA == 9), \"RAÇA\"] = \"Sem declaração\"\n",
    "    \n",
    "except:\"\"\n",
    "    \n",
    "DF_2015_novo.RAÇA.head()"
   ]
  },
  {
   "cell_type": "code",
   "execution_count": null,
   "metadata": {},
   "outputs": [],
   "source": [
    "try:\n",
    "    DF_2015_novo.loc[(DF_2015_novo.EST_CIV == 1), \"EST_CIV\"] = \"Casado(a)\"\n",
    "    DF_2015_novo.loc[(DF_2015_novo.EST_CIV == 3), \"EST_CIV\"] = \"Desquitado(a) ou Separado(a)\"\n",
    "    DF_2015_novo.loc[(DF_2015_novo.EST_CIV == 5), \"EST_CIV\"] = \"Divorciado(a)\"\n",
    "    DF_2015_novo.loc[(DF_2015_novo.EST_CIV == 7), \"EST_CIV\"] = \"Viúvo(a)\"\n",
    "    DF_2015_novo.loc[(DF_2015_novo.EST_CIV == 0), \"EST_CIV\"] = \"Solteiro(a)\"\n",
    "    DF_2015_novo.loc[(DF_2015_novo.EST_CIV.isnull() == True), \"EST_CIV\"] = \"Não Se Aplica\" \n",
    "    \n",
    "except:\"\"\n",
    "    \n",
    "    \n",
    "DF_2015_novo.EST_CIV.head()"
   ]
  },
  {
   "cell_type": "code",
   "execution_count": null,
   "metadata": {},
   "outputs": [],
   "source": [
    "try:\n",
    "    DF_2015_novo.loc[(DF_2015_novo.LER_ESC == 1), \"LER_ESC\"] = \"Sim\"\n",
    "    DF_2015_novo.loc[(DF_2015_novo.LER_ESC == 3), \"LER_ESC\"] = \"Não\"\n",
    "    \n",
    "except:\"\"\n",
    "    \n",
    "    \n",
    "DF_2015_novo.LER_ESC.head()"
   ]
  },
  {
   "cell_type": "code",
   "execution_count": null,
   "metadata": {},
   "outputs": [],
   "source": [
    "try:\n",
    "    DF_2015_novo.loc[(DF_2015_novo.REDE_ENS == 2), \"REDE_ENS\"] = \"Público\"\n",
    "    DF_2015_novo.loc[(DF_2015_novo.REDE_ENS == 4), \"REDE_ENS\"] = \"Privado\"\n",
    "    DF_2015_novo.loc[(DF_2015_novo.REDE_ENS.isnull() == True), \"REDE_ENS\"] = \"Não Se Aplica\"     \n",
    "except:\"\"\n",
    "    \n",
    "    \n",
    "DF_2015_novo.REDE_ENS.head()"
   ]
  },
  {
   "cell_type": "code",
   "execution_count": null,
   "metadata": {},
   "outputs": [],
   "source": [
    "try:\n",
    "    DF_2015_novo.loc[(DF_2015_novo.MOBILE == 1), \"MOBILE\"] = \"Sim\"\n",
    "    DF_2015_novo.loc[(DF_2015_novo.MOBILE == 3), \"MOBILE\"] = \"Não\"\n",
    "    DF_2015_novo.loc[(DF_2015_novo.MOBILE.isnull() == True), \"MOBILE\"] = \"Não Se Aplica\"  \n",
    "    \n",
    "except:\"\"\n",
    "    \n",
    "    \n",
    "DF_2015_novo.MOBILE.head()"
   ]
  },
  {
   "cell_type": "code",
   "execution_count": null,
   "metadata": {},
   "outputs": [],
   "source": [
    "try:\n",
    "#    DF_2015_novo.loc[(DF_2015_novo.IDADE >= 0)&(DF_2015_novo.IDADE <= 13), \"IDADE\"] = \"Criança\"\n",
    "#    DF_2015_novo.loc[(DF_2015_novo.IDADE >= 14)&(DF_2015_novo.IDADE <= 17), \"IDADE\"] = \"Adolescente\"\n",
    "    DF_2015_novo.loc[(DF_2015_novo.IDADE >= 18 )&(DF_2015_novo.IDADE <= 30), \"IDADE\"] = \"Jovem Adulto\"\n",
    "#    DF_2015_novo.loc[(DF_2015_novo.IDADE >= 31)&(DF_2015_novo.IDADE <=50), \"IDADE\"] = \"Adulto\"\n",
    "#    DF_2015_novo.loc[(DF_2015_novo.IDADE >= 51)&(DF_2015_novo.IDADE <= 120), \"IDADE\"] = \"Idoso\"\n",
    "#    DF_2015_novo.loc[(DF_2015_novo.IDADE.isnull() == True), \"IDADE\"] <= \"Não Se Aplica\"  \n",
    "except:\"\"\n",
    "\n",
    "    \n",
    "DF_2015_novo.IDADE.head()"
   ]
  },
  {
   "cell_type": "code",
   "execution_count": null,
   "metadata": {},
   "outputs": [],
   "source": [
    "\n",
    "try:\n",
    "#     DF_2015_novo.loc[(DF_2015_novo.RENDA >= 0)&(DF_2015_novo.RENDA <= 81), \"RENDA\"] = \"Extrema Pobreza\"\n",
    "#     DF_2015_novo.loc[(DF_2015_novo.RENDA == 82)&(DF_2015_novo.RENDA == 162), \"RENDA\"] = \"Pobre\"\n",
    "#     DF_2015_novo.loc[(DF_2015_novo.RENDA == 163 )&(DF_2015_novo.RENDA == 291), \"RENDA\"] = \"Vulnerável\"\n",
    "#     DF_2015_novo.loc[(DF_2015_novo.RENDA == 292)&(DF_2015_novo.RENDA == 441), \"RENDA\"] = \"Baixa Classe Média\"\n",
    "#     DF_2015_novo.loc[(DF_2015_novo.RENDA == 442)&(DF_2015_novo.RENDA == 641), \"RENDA\"] = \"Classe Média\"\n",
    "#     DF_2015_novo.loc[(DF_2015_novo.RENDA == 642)&(DF_2015_novo.RENDA == 1019), \"RENDA\"] = \"Alta Classe Média\"\n",
    "     DF_2015_novo.loc[(DF_2015_novo.RENDA >= 1020)&(DF_2015_novo.RENDA <= 2480), \"RENDA\"] = \"Baixa Classe Alta\"\n",
    "#     DF_2015_novo.loc[(DF_2015_novo.RENDA == 2482)&(DF_2015_novo.RENDA == 800000000), \"RENDA\"] = \"Classe Alta\"\n",
    "     DF_2015_novo.loc[(DF_2015_novo.RENDA == 1e+12), \"RENDA\"] = \"Não Declarado\"\n",
    "#     DF_2015_novo.loc[(DF_2015_novo.RENDA.isnull() == True), \"RENDA\"] = \"Não Se Aplica\"  \n",
    "except:\"\"\n",
    "\n",
    "    \n",
    "DF_2015_novo.RENDA.head()"
   ]
  },
  {
   "cell_type": "code",
   "execution_count": null,
   "metadata": {},
   "outputs": [],
   "source": [
    "DF_2015_novo.head()"
   ]
  },
  {
   "cell_type": "markdown",
   "metadata": {},
   "source": [
    "___\n",
    "## Análise e Resultados"
   ]
  },
  {
   "cell_type": "markdown",
   "metadata": {},
   "source": [
    "## Pergunta Norteadora:\n",
    " \n",
    " O numero e perfil de pessoas que são de **baixa classe alta** aumentou por conta da tecnologia/internete móvel? E o número de homens que ganham mais que mulheres mudou? E o que influencia nessa mudança, caso exista. \n",
    " \n",
    " Os dados mudam ao analisarmos os jovens adultos?"
   ]
  },
  {
   "cell_type": "code",
   "execution_count": null,
   "metadata": {},
   "outputs": [],
   "source": [
    "comparacao_sexo = (DF_2015_novo[\"SEXO\"].value_counts(normalize='index')*100).round(decimals=1)\n",
    "comparacao_sexo"
   ]
  },
  {
   "cell_type": "markdown",
   "metadata": {},
   "source": [
    "Pode-se observar que existem mais mulheres do que homens na pesquisa."
   ]
  },
  {
   "cell_type": "code",
   "execution_count": null,
   "metadata": {},
   "outputs": [],
   "source": [
    "sexo_din_2011 = pd.crosstab(DF_2011_novo[\"SEXO\"],DF_2011_novo[\"RENDA\"].loc[DF_2011_novo[\"RENDA\"]==\"Baixa Classe Alta\"], rownames=[\"SEXO\"], colnames=[\"RENDA\"] )\n",
    "sexo_din_2011"
   ]
  },
  {
   "cell_type": "code",
   "execution_count": null,
   "metadata": {},
   "outputs": [],
   "source": [
    "sexo_din_2015 = pd.crosstab(DF_2015_novo[\"SEXO\"],DF_2015_novo[\"RENDA\"].loc[DF_2015_novo[\"RENDA\"]==\"Baixa Classe Alta\"], rownames=[\"SEXO\"], colnames=[\"RENDA\"] )\n",
    "sexo_din_2015"
   ]
  },
  {
   "cell_type": "code",
   "execution_count": null,
   "metadata": {
    "scrolled": true
   },
   "outputs": [],
   "source": [
    "sexo_din_2011['Baixa Classe Alta'][1]/sexo_din_2011['Baixa Classe Alta'][0]"
   ]
  },
  {
   "cell_type": "code",
   "execution_count": null,
   "metadata": {
    "scrolled": true
   },
   "outputs": [],
   "source": [
    "sexo_din_2015['Baixa Classe Alta'][1]/sexo_din_2015['Baixa Classe Alta'][0]"
   ]
  },
  {
   "cell_type": "markdown",
   "metadata": {},
   "source": [
    "##### Taxa de homens de Baixa Classe Alta por mulheres de Baixa Classe Alta\n",
    "\n",
    "."
   ]
  },
  {
   "cell_type": "code",
   "execution_count": null,
   "metadata": {},
   "outputs": [],
   "source": [
    "raca_din_2011 = pd.crosstab(DF_2011_novo[\"RAÇA\"],DF_2011_novo[\"RENDA\"].loc[DF_2011_novo[\"RENDA\"]==\"Baixa Classe Alta\"], rownames=[\"RAÇA\"], colnames=[\"RENDA\"] )\n",
    "soma_tabela = raca_din_2011.sum().sum()\n",
    "raca_din_2011*100/soma_tabela"
   ]
  },
  {
   "cell_type": "code",
   "execution_count": null,
   "metadata": {},
   "outputs": [],
   "source": [
    "raca_din_2015 = pd.crosstab(DF_2015_novo[\"RAÇA\"],DF_2015_novo[\"RENDA\"].loc[DF_2015_novo[\"RENDA\"]==\"Baixa Classe Alta\"], rownames=[\"RAÇA\"], colnames=[\"RENDA\"] )\n",
    "soma_tabela1 = raca_din_2015.sum().sum()\n",
    "raca_din_2015*100/soma_tabela1"
   ]
  },
  {
   "cell_type": "markdown",
   "metadata": {},
   "source": [
    "##### Comparação entre porcentagens de pessoas de cada raça que pertencem à Baixa Classe Alta\n",
    "\n",
    "."
   ]
  },
  {
   "cell_type": "code",
   "execution_count": null,
   "metadata": {},
   "outputs": [],
   "source": [
    "raca_esc_2011 = pd.crosstab(DF_2011_novo[\"RAÇA\"],DF_2011_novo[\"REDE_ENS\"].loc[DF_2011_novo[\"RENDA\"]==\"Baixa Classe Alta\"],colnames=[\"REDE DE ENSINO\"], rownames=[\"RAÇA\"] )\n",
    "raca_esc_2011"
   ]
  },
  {
   "cell_type": "code",
   "execution_count": null,
   "metadata": {},
   "outputs": [],
   "source": [
    "raca_esc_2015 = pd.crosstab(DF_2015_novo[\"RAÇA\"],DF_2015_novo[\"REDE_ENS\"].loc[DF_2015_novo[\"RENDA\"]==\"Baixa Classe Alta\"], colnames=[\"REDE DE ENSINO\"], rownames=[\"RAÇA\"] )\n",
    "raca_esc_2015"
   ]
  },
  {
   "cell_type": "markdown",
   "metadata": {},
   "source": [
    "##### Comparação entre a rede de ensino frequentada e a raça das pessoas\n",
    "\n",
    "."
   ]
  },
  {
   "cell_type": "code",
   "execution_count": null,
   "metadata": {},
   "outputs": [],
   "source": [
    "fig = plt.figure(figsize=(11,5))\n",
    "\n",
    "y_ticks = [10*x for x in range(9)]\n",
    "\n",
    "plt.subplot(131)\n",
    "ut1 = (DF_2011_novo['MOBILE'].value_counts(sort=False, normalize=True)*100).round(decimals=1)\n",
    "ut1.plot(kind='bar', title = \"USAM TELEFONE MOVEL - 2011\", yticks=y_ticks)\n",
    "plt.ylabel(\"Pessoas (%)\")\n",
    "\n",
    "plt.subplot(132)\n",
    "ut2 = (DF_2015_novo['MOBILE'].value_counts(sort=False, normalize=True)*100).round(decimals=1)\n",
    "ut2.plot(kind='bar', title = \"USAM TELEFONE MOVEL - 2015\", yticks=y_ticks)\n",
    "\n",
    "plt.tight_layout()\n",
    "plt.show()"
   ]
  },
  {
   "cell_type": "markdown",
   "metadata": {},
   "source": [
    "## Somente Jovens adultos:"
   ]
  },
  {
   "cell_type": "code",
   "execution_count": null,
   "metadata": {},
   "outputs": [],
   "source": [
    "DF_JA_2011 = DF_2011_novo.loc[(DF_2011_novo.IDADE == \"Jovem Adulto\")]"
   ]
  },
  {
   "cell_type": "code",
   "execution_count": null,
   "metadata": {},
   "outputs": [],
   "source": [
    "DF_JA_2015 = DF_2015_novo.loc[(DF_2015_novo.IDADE == \"Jovem Adulto\")]"
   ]
  },
  {
   "cell_type": "code",
   "execution_count": null,
   "metadata": {},
   "outputs": [],
   "source": [
    "DF_JA_2011_CT = pd.crosstab(DF_JA_2011[\"SEXO\"],DF_JA_2011[\"RENDA\"].loc[DF_JA_2011[\"RENDA\"]==\"Baixa Classe Alta\"], rownames=[\"SEXO\"], colnames=[\"RENDA\"] )\n",
    "DF_JA_2011_CT"
   ]
  },
  {
   "cell_type": "code",
   "execution_count": null,
   "metadata": {},
   "outputs": [],
   "source": [
    "DF_JA_2015_CT = pd.crosstab(DF_JA_2015[\"SEXO\"],DF_JA_2015[\"RENDA\"].loc[DF_JA_2015[\"RENDA\"]==\"Baixa Classe Alta\"], rownames=[\"SEXO\"], colnames=[\"RENDA\"] )\n",
    "DF_JA_2015_CT"
   ]
  },
  {
   "cell_type": "code",
   "execution_count": null,
   "metadata": {},
   "outputs": [],
   "source": [
    "DF_JA_2011_CT['Baixa Classe Alta'][1]/DF_JA_2011_CT['Baixa Classe Alta'][0]"
   ]
  },
  {
   "cell_type": "code",
   "execution_count": null,
   "metadata": {},
   "outputs": [],
   "source": [
    "DF_JA_2015_CT['Baixa Classe Alta'][1]/DF_JA_2015_CT['Baixa Classe Alta'][0]"
   ]
  },
  {
   "cell_type": "markdown",
   "metadata": {},
   "source": [
    "Taxa de jovens adultos de Baixa Classe Alta por jovens adultas de Baixa Classe Alta"
   ]
  },
  {
   "cell_type": "code",
   "execution_count": null,
   "metadata": {},
   "outputs": [],
   "source": [
    "raca_din_JA_2011 = pd.crosstab(DF_JA_2011[\"RAÇA\"],DF_JA_2011[\"RENDA\"].loc[DF_JA_2011[\"RENDA\"]==\"Baixa Classe Alta\"], rownames=[\"RAÇA\"], colnames=[\"RENDA\"] )\n",
    "soma_tabela2 = raca_din_JA_2011.sum().sum()\n",
    "raca_din_JA_2011*100/soma_tabela2"
   ]
  },
  {
   "cell_type": "code",
   "execution_count": null,
   "metadata": {},
   "outputs": [],
   "source": [
    "raca_din_JA_2015 = pd.crosstab(DF_JA_2015[\"RAÇA\"],DF_JA_2015[\"RENDA\"].loc[DF_JA_2015[\"RENDA\"]==\"Baixa Classe Alta\"], rownames=[\"RAÇA\"], colnames=[\"RENDA\"] )\n",
    "soma_tabela3 = raca_din_JA_2015.sum().sum()\n",
    "raca_din_JA_2015*100/soma_tabela3"
   ]
  },
  {
   "cell_type": "markdown",
   "metadata": {},
   "source": [
    "##### Comparação entre porcentagens de jovens de cada raça que pertencem à Baixa Classe Alta\n",
    "\n",
    "."
   ]
  },
  {
   "cell_type": "code",
   "execution_count": null,
   "metadata": {},
   "outputs": [],
   "source": [
    "raca_esc_JA_2011 = pd.crosstab(DF_JA_2011[\"RAÇA\"],DF_JA_2011[\"REDE_ENS\"].loc[DF_JA_2011[\"RENDA\"]==\"Baixa Classe Alta\"], rownames=[\"REDE DE ENSINO\"], colnames=[\"RENDA\"] )\n",
    "raca_esc_JA_2011"
   ]
  },
  {
   "cell_type": "code",
   "execution_count": null,
   "metadata": {},
   "outputs": [],
   "source": [
    "raca_esc_JA_2015 = pd.crosstab(DF_JA_2015[\"RAÇA\"],DF_JA_2015[\"REDE_ENS\"].loc[DF_JA_2015[\"RENDA\"]==\"Baixa Classe Alta\"], rownames=[\"REDE DE ENSINO\"], colnames=[\"RENDA\"] )\n",
    "raca_esc_JA_2015"
   ]
  },
  {
   "cell_type": "markdown",
   "metadata": {},
   "source": [
    "##### Comparação entre a rede de ensino frequentada e a raça dos jovens\n",
    "\n",
    "."
   ]
  },
  {
   "cell_type": "code",
   "execution_count": null,
   "metadata": {},
   "outputs": [],
   "source": [
    "fig = plt.figure(figsize=(11,5))\n",
    "\n",
    "y_ticks = [10*x for x in range(10)]\n",
    "\n",
    "plt.subplot(131)\n",
    "ut1 = (DF_JA_2011['MOBILE'].value_counts(sort=False, normalize=True)*100).round(decimals=1)\n",
    "ut1.plot(kind='bar', title = \"USAM TELEFONE MOVEL - 2011\", yticks=y_ticks)\n",
    "plt.ylabel(\"Pessoas (%)\")\n",
    "\n",
    "plt.subplot(132)\n",
    "ut2 = (DF_JA_2015['MOBILE'].value_counts(sort=False, normalize=True)*100).round(decimals=1)\n",
    "ut2.plot(kind='bar', title = \"USAM TELEFONE MOVEL - 2015\", yticks=y_ticks)\n",
    "\n",
    "plt.tight_layout()\n",
    "plt.show()"
   ]
  },
  {
   "cell_type": "markdown",
   "metadata": {},
   "source": [
    "___\n",
    "## Conclusão "
   ]
  },
  {
   "cell_type": "markdown",
   "metadata": {
    "collapsed": true
   },
   "source": [
    "Descreva aqui suas conclusões!"
   ]
  },
  {
   "cell_type": "code",
   "execution_count": null,
   "metadata": {},
   "outputs": [],
   "source": []
  }
 ],
 "metadata": {
  "anaconda-cloud": {},
  "kernelspec": {
   "display_name": "Python 3",
   "language": "python",
   "name": "python3"
  },
  "language_info": {
   "codemirror_mode": {
    "name": "ipython",
    "version": 3
   },
   "file_extension": ".py",
   "mimetype": "text/x-python",
   "name": "python",
   "nbconvert_exporter": "python",
   "pygments_lexer": "ipython3",
   "version": "3.6.4"
  }
 },
 "nbformat": 4,
 "nbformat_minor": 1
}
